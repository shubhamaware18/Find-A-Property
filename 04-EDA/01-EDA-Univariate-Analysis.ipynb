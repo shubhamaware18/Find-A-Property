{
  "nbformat": 4,
  "nbformat_minor": 0,
  "metadata": {
    "colab": {
      "provenance": []
    },
    "kernelspec": {
      "name": "python3",
      "display_name": "Python 3"
    },
    "language_info": {
      "name": "python"
    }
  },
  "cells": [
    {
      "cell_type": "code",
      "execution_count": 1,
      "metadata": {
        "id": "VYLUXmMKVCUE"
      },
      "outputs": [],
      "source": [
        "import pandas as pd\n",
        "import numpy as np\n",
        "import matplotlib.pyplot as plt\n",
        "import seaborn as sns"
      ]
    },
    {
      "cell_type": "code",
      "source": [
        "df = pd.read_csv(\"/content/drive/MyDrive/House-Price/datasets/Processed/gurgaon_properties_cleaned_v2.csv\")"
      ],
      "metadata": {
        "id": "Q-gTsUw5VYWq"
      },
      "execution_count": 2,
      "outputs": []
    },
    {
      "cell_type": "code",
      "source": [
        "df.head()"
      ],
      "metadata": {
        "colab": {
          "base_uri": "https://localhost:8080/",
          "height": 516
        },
        "id": "iAnBs25HVc3g",
        "outputId": "9bf1ed0c-be59-4e68-c868-da04a9a3ae00"
      },
      "execution_count": 3,
      "outputs": [
        {
          "output_type": "execute_result",
          "data": {
            "text/plain": [
              "  property_type                      society      sector  price  \\\n",
              "0          flat      signature global park 4   sector 36   0.82   \n",
              "1          flat             smart world gems   sector 89   0.95   \n",
              "2          flat                pyramid elite   sector 86   0.46   \n",
              "3          flat       breez global hill view  sohna road   0.32   \n",
              "4          flat  bestech park view sanskruti   sector 92   1.60   \n",
              "\n",
              "   price_per_sqft     area                                       areaWithType  \\\n",
              "0          7585.0   1081.0  Super Built up area 1081(100.43 sq.m.)Carpet a...   \n",
              "1          8600.0   1105.0                   Carpet area: 1103 (102.47 sq.m.)   \n",
              "2            79.0  58228.0                 Carpet area: 58141 (5401.48 sq.m.)   \n",
              "3          5470.0    585.0  Built Up area: 1000 (92.9 sq.m.)Carpet area: 5...   \n",
              "4          8020.0   1995.0  Super Built up area 1995(185.34 sq.m.)Built Up...   \n",
              "\n",
              "   bedRoom  bathroom balcony  ...  super_built_up_area built_up_area  \\\n",
              "0        3         2       2  ...               1081.0           NaN   \n",
              "1        2         2       2  ...                  NaN           NaN   \n",
              "2        2         2       1  ...                  NaN           NaN   \n",
              "3        2         2       1  ...                  NaN        1000.0   \n",
              "4        3         4      3+  ...               1995.0        1615.0   \n",
              "\n",
              "  carpet_area  study room  servant room  store room  pooja room  others  \\\n",
              "0       650.0           0             0           0           0       0   \n",
              "1      1103.0           1             1           0           0       0   \n",
              "2     58141.0           0             0           0           0       0   \n",
              "3       585.0           0             0           0           0       0   \n",
              "4      1476.0           0             1           0           0       1   \n",
              "\n",
              "   furnishing_type  luxury_score  \n",
              "0                0             8  \n",
              "1                0            38  \n",
              "2                0            15  \n",
              "3                0            49  \n",
              "4                1           174  \n",
              "\n",
              "[5 rows x 23 columns]"
            ],
            "text/html": [
              "\n",
              "  <div id=\"df-f0c6dce2-d630-4623-9910-b43fd91a102d\" class=\"colab-df-container\">\n",
              "    <div>\n",
              "<style scoped>\n",
              "    .dataframe tbody tr th:only-of-type {\n",
              "        vertical-align: middle;\n",
              "    }\n",
              "\n",
              "    .dataframe tbody tr th {\n",
              "        vertical-align: top;\n",
              "    }\n",
              "\n",
              "    .dataframe thead th {\n",
              "        text-align: right;\n",
              "    }\n",
              "</style>\n",
              "<table border=\"1\" class=\"dataframe\">\n",
              "  <thead>\n",
              "    <tr style=\"text-align: right;\">\n",
              "      <th></th>\n",
              "      <th>property_type</th>\n",
              "      <th>society</th>\n",
              "      <th>sector</th>\n",
              "      <th>price</th>\n",
              "      <th>price_per_sqft</th>\n",
              "      <th>area</th>\n",
              "      <th>areaWithType</th>\n",
              "      <th>bedRoom</th>\n",
              "      <th>bathroom</th>\n",
              "      <th>balcony</th>\n",
              "      <th>...</th>\n",
              "      <th>super_built_up_area</th>\n",
              "      <th>built_up_area</th>\n",
              "      <th>carpet_area</th>\n",
              "      <th>study room</th>\n",
              "      <th>servant room</th>\n",
              "      <th>store room</th>\n",
              "      <th>pooja room</th>\n",
              "      <th>others</th>\n",
              "      <th>furnishing_type</th>\n",
              "      <th>luxury_score</th>\n",
              "    </tr>\n",
              "  </thead>\n",
              "  <tbody>\n",
              "    <tr>\n",
              "      <th>0</th>\n",
              "      <td>flat</td>\n",
              "      <td>signature global park 4</td>\n",
              "      <td>sector 36</td>\n",
              "      <td>0.82</td>\n",
              "      <td>7585.0</td>\n",
              "      <td>1081.0</td>\n",
              "      <td>Super Built up area 1081(100.43 sq.m.)Carpet a...</td>\n",
              "      <td>3</td>\n",
              "      <td>2</td>\n",
              "      <td>2</td>\n",
              "      <td>...</td>\n",
              "      <td>1081.0</td>\n",
              "      <td>NaN</td>\n",
              "      <td>650.0</td>\n",
              "      <td>0</td>\n",
              "      <td>0</td>\n",
              "      <td>0</td>\n",
              "      <td>0</td>\n",
              "      <td>0</td>\n",
              "      <td>0</td>\n",
              "      <td>8</td>\n",
              "    </tr>\n",
              "    <tr>\n",
              "      <th>1</th>\n",
              "      <td>flat</td>\n",
              "      <td>smart world gems</td>\n",
              "      <td>sector 89</td>\n",
              "      <td>0.95</td>\n",
              "      <td>8600.0</td>\n",
              "      <td>1105.0</td>\n",
              "      <td>Carpet area: 1103 (102.47 sq.m.)</td>\n",
              "      <td>2</td>\n",
              "      <td>2</td>\n",
              "      <td>2</td>\n",
              "      <td>...</td>\n",
              "      <td>NaN</td>\n",
              "      <td>NaN</td>\n",
              "      <td>1103.0</td>\n",
              "      <td>1</td>\n",
              "      <td>1</td>\n",
              "      <td>0</td>\n",
              "      <td>0</td>\n",
              "      <td>0</td>\n",
              "      <td>0</td>\n",
              "      <td>38</td>\n",
              "    </tr>\n",
              "    <tr>\n",
              "      <th>2</th>\n",
              "      <td>flat</td>\n",
              "      <td>pyramid elite</td>\n",
              "      <td>sector 86</td>\n",
              "      <td>0.46</td>\n",
              "      <td>79.0</td>\n",
              "      <td>58228.0</td>\n",
              "      <td>Carpet area: 58141 (5401.48 sq.m.)</td>\n",
              "      <td>2</td>\n",
              "      <td>2</td>\n",
              "      <td>1</td>\n",
              "      <td>...</td>\n",
              "      <td>NaN</td>\n",
              "      <td>NaN</td>\n",
              "      <td>58141.0</td>\n",
              "      <td>0</td>\n",
              "      <td>0</td>\n",
              "      <td>0</td>\n",
              "      <td>0</td>\n",
              "      <td>0</td>\n",
              "      <td>0</td>\n",
              "      <td>15</td>\n",
              "    </tr>\n",
              "    <tr>\n",
              "      <th>3</th>\n",
              "      <td>flat</td>\n",
              "      <td>breez global hill view</td>\n",
              "      <td>sohna road</td>\n",
              "      <td>0.32</td>\n",
              "      <td>5470.0</td>\n",
              "      <td>585.0</td>\n",
              "      <td>Built Up area: 1000 (92.9 sq.m.)Carpet area: 5...</td>\n",
              "      <td>2</td>\n",
              "      <td>2</td>\n",
              "      <td>1</td>\n",
              "      <td>...</td>\n",
              "      <td>NaN</td>\n",
              "      <td>1000.0</td>\n",
              "      <td>585.0</td>\n",
              "      <td>0</td>\n",
              "      <td>0</td>\n",
              "      <td>0</td>\n",
              "      <td>0</td>\n",
              "      <td>0</td>\n",
              "      <td>0</td>\n",
              "      <td>49</td>\n",
              "    </tr>\n",
              "    <tr>\n",
              "      <th>4</th>\n",
              "      <td>flat</td>\n",
              "      <td>bestech park view sanskruti</td>\n",
              "      <td>sector 92</td>\n",
              "      <td>1.60</td>\n",
              "      <td>8020.0</td>\n",
              "      <td>1995.0</td>\n",
              "      <td>Super Built up area 1995(185.34 sq.m.)Built Up...</td>\n",
              "      <td>3</td>\n",
              "      <td>4</td>\n",
              "      <td>3+</td>\n",
              "      <td>...</td>\n",
              "      <td>1995.0</td>\n",
              "      <td>1615.0</td>\n",
              "      <td>1476.0</td>\n",
              "      <td>0</td>\n",
              "      <td>1</td>\n",
              "      <td>0</td>\n",
              "      <td>0</td>\n",
              "      <td>1</td>\n",
              "      <td>1</td>\n",
              "      <td>174</td>\n",
              "    </tr>\n",
              "  </tbody>\n",
              "</table>\n",
              "<p>5 rows × 23 columns</p>\n",
              "</div>\n",
              "    <div class=\"colab-df-buttons\">\n",
              "\n",
              "  <div class=\"colab-df-container\">\n",
              "    <button class=\"colab-df-convert\" onclick=\"convertToInteractive('df-f0c6dce2-d630-4623-9910-b43fd91a102d')\"\n",
              "            title=\"Convert this dataframe to an interactive table.\"\n",
              "            style=\"display:none;\">\n",
              "\n",
              "  <svg xmlns=\"http://www.w3.org/2000/svg\" height=\"24px\" viewBox=\"0 -960 960 960\">\n",
              "    <path d=\"M120-120v-720h720v720H120Zm60-500h600v-160H180v160Zm220 220h160v-160H400v160Zm0 220h160v-160H400v160ZM180-400h160v-160H180v160Zm440 0h160v-160H620v160ZM180-180h160v-160H180v160Zm440 0h160v-160H620v160Z\"/>\n",
              "  </svg>\n",
              "    </button>\n",
              "\n",
              "  <style>\n",
              "    .colab-df-container {\n",
              "      display:flex;\n",
              "      gap: 12px;\n",
              "    }\n",
              "\n",
              "    .colab-df-convert {\n",
              "      background-color: #E8F0FE;\n",
              "      border: none;\n",
              "      border-radius: 50%;\n",
              "      cursor: pointer;\n",
              "      display: none;\n",
              "      fill: #1967D2;\n",
              "      height: 32px;\n",
              "      padding: 0 0 0 0;\n",
              "      width: 32px;\n",
              "    }\n",
              "\n",
              "    .colab-df-convert:hover {\n",
              "      background-color: #E2EBFA;\n",
              "      box-shadow: 0px 1px 2px rgba(60, 64, 67, 0.3), 0px 1px 3px 1px rgba(60, 64, 67, 0.15);\n",
              "      fill: #174EA6;\n",
              "    }\n",
              "\n",
              "    .colab-df-buttons div {\n",
              "      margin-bottom: 4px;\n",
              "    }\n",
              "\n",
              "    [theme=dark] .colab-df-convert {\n",
              "      background-color: #3B4455;\n",
              "      fill: #D2E3FC;\n",
              "    }\n",
              "\n",
              "    [theme=dark] .colab-df-convert:hover {\n",
              "      background-color: #434B5C;\n",
              "      box-shadow: 0px 1px 3px 1px rgba(0, 0, 0, 0.15);\n",
              "      filter: drop-shadow(0px 1px 2px rgba(0, 0, 0, 0.3));\n",
              "      fill: #FFFFFF;\n",
              "    }\n",
              "  </style>\n",
              "\n",
              "    <script>\n",
              "      const buttonEl =\n",
              "        document.querySelector('#df-f0c6dce2-d630-4623-9910-b43fd91a102d button.colab-df-convert');\n",
              "      buttonEl.style.display =\n",
              "        google.colab.kernel.accessAllowed ? 'block' : 'none';\n",
              "\n",
              "      async function convertToInteractive(key) {\n",
              "        const element = document.querySelector('#df-f0c6dce2-d630-4623-9910-b43fd91a102d');\n",
              "        const dataTable =\n",
              "          await google.colab.kernel.invokeFunction('convertToInteractive',\n",
              "                                                    [key], {});\n",
              "        if (!dataTable) return;\n",
              "\n",
              "        const docLinkHtml = 'Like what you see? Visit the ' +\n",
              "          '<a target=\"_blank\" href=https://colab.research.google.com/notebooks/data_table.ipynb>data table notebook</a>'\n",
              "          + ' to learn more about interactive tables.';\n",
              "        element.innerHTML = '';\n",
              "        dataTable['output_type'] = 'display_data';\n",
              "        await google.colab.output.renderOutput(dataTable, element);\n",
              "        const docLink = document.createElement('div');\n",
              "        docLink.innerHTML = docLinkHtml;\n",
              "        element.appendChild(docLink);\n",
              "      }\n",
              "    </script>\n",
              "  </div>\n",
              "\n",
              "\n",
              "<div id=\"df-2802a079-ae17-4587-b2a5-85042d6eee5b\">\n",
              "  <button class=\"colab-df-quickchart\" onclick=\"quickchart('df-2802a079-ae17-4587-b2a5-85042d6eee5b')\"\n",
              "            title=\"Suggest charts\"\n",
              "            style=\"display:none;\">\n",
              "\n",
              "<svg xmlns=\"http://www.w3.org/2000/svg\" height=\"24px\"viewBox=\"0 0 24 24\"\n",
              "     width=\"24px\">\n",
              "    <g>\n",
              "        <path d=\"M19 3H5c-1.1 0-2 .9-2 2v14c0 1.1.9 2 2 2h14c1.1 0 2-.9 2-2V5c0-1.1-.9-2-2-2zM9 17H7v-7h2v7zm4 0h-2V7h2v10zm4 0h-2v-4h2v4z\"/>\n",
              "    </g>\n",
              "</svg>\n",
              "  </button>\n",
              "\n",
              "<style>\n",
              "  .colab-df-quickchart {\n",
              "      --bg-color: #E8F0FE;\n",
              "      --fill-color: #1967D2;\n",
              "      --hover-bg-color: #E2EBFA;\n",
              "      --hover-fill-color: #174EA6;\n",
              "      --disabled-fill-color: #AAA;\n",
              "      --disabled-bg-color: #DDD;\n",
              "  }\n",
              "\n",
              "  [theme=dark] .colab-df-quickchart {\n",
              "      --bg-color: #3B4455;\n",
              "      --fill-color: #D2E3FC;\n",
              "      --hover-bg-color: #434B5C;\n",
              "      --hover-fill-color: #FFFFFF;\n",
              "      --disabled-bg-color: #3B4455;\n",
              "      --disabled-fill-color: #666;\n",
              "  }\n",
              "\n",
              "  .colab-df-quickchart {\n",
              "    background-color: var(--bg-color);\n",
              "    border: none;\n",
              "    border-radius: 50%;\n",
              "    cursor: pointer;\n",
              "    display: none;\n",
              "    fill: var(--fill-color);\n",
              "    height: 32px;\n",
              "    padding: 0;\n",
              "    width: 32px;\n",
              "  }\n",
              "\n",
              "  .colab-df-quickchart:hover {\n",
              "    background-color: var(--hover-bg-color);\n",
              "    box-shadow: 0 1px 2px rgba(60, 64, 67, 0.3), 0 1px 3px 1px rgba(60, 64, 67, 0.15);\n",
              "    fill: var(--button-hover-fill-color);\n",
              "  }\n",
              "\n",
              "  .colab-df-quickchart-complete:disabled,\n",
              "  .colab-df-quickchart-complete:disabled:hover {\n",
              "    background-color: var(--disabled-bg-color);\n",
              "    fill: var(--disabled-fill-color);\n",
              "    box-shadow: none;\n",
              "  }\n",
              "\n",
              "  .colab-df-spinner {\n",
              "    border: 2px solid var(--fill-color);\n",
              "    border-color: transparent;\n",
              "    border-bottom-color: var(--fill-color);\n",
              "    animation:\n",
              "      spin 1s steps(1) infinite;\n",
              "  }\n",
              "\n",
              "  @keyframes spin {\n",
              "    0% {\n",
              "      border-color: transparent;\n",
              "      border-bottom-color: var(--fill-color);\n",
              "      border-left-color: var(--fill-color);\n",
              "    }\n",
              "    20% {\n",
              "      border-color: transparent;\n",
              "      border-left-color: var(--fill-color);\n",
              "      border-top-color: var(--fill-color);\n",
              "    }\n",
              "    30% {\n",
              "      border-color: transparent;\n",
              "      border-left-color: var(--fill-color);\n",
              "      border-top-color: var(--fill-color);\n",
              "      border-right-color: var(--fill-color);\n",
              "    }\n",
              "    40% {\n",
              "      border-color: transparent;\n",
              "      border-right-color: var(--fill-color);\n",
              "      border-top-color: var(--fill-color);\n",
              "    }\n",
              "    60% {\n",
              "      border-color: transparent;\n",
              "      border-right-color: var(--fill-color);\n",
              "    }\n",
              "    80% {\n",
              "      border-color: transparent;\n",
              "      border-right-color: var(--fill-color);\n",
              "      border-bottom-color: var(--fill-color);\n",
              "    }\n",
              "    90% {\n",
              "      border-color: transparent;\n",
              "      border-bottom-color: var(--fill-color);\n",
              "    }\n",
              "  }\n",
              "</style>\n",
              "\n",
              "  <script>\n",
              "    async function quickchart(key) {\n",
              "      const quickchartButtonEl =\n",
              "        document.querySelector('#' + key + ' button');\n",
              "      quickchartButtonEl.disabled = true;  // To prevent multiple clicks.\n",
              "      quickchartButtonEl.classList.add('colab-df-spinner');\n",
              "      try {\n",
              "        const charts = await google.colab.kernel.invokeFunction(\n",
              "            'suggestCharts', [key], {});\n",
              "      } catch (error) {\n",
              "        console.error('Error during call to suggestCharts:', error);\n",
              "      }\n",
              "      quickchartButtonEl.classList.remove('colab-df-spinner');\n",
              "      quickchartButtonEl.classList.add('colab-df-quickchart-complete');\n",
              "    }\n",
              "    (() => {\n",
              "      let quickchartButtonEl =\n",
              "        document.querySelector('#df-2802a079-ae17-4587-b2a5-85042d6eee5b button');\n",
              "      quickchartButtonEl.style.display =\n",
              "        google.colab.kernel.accessAllowed ? 'block' : 'none';\n",
              "    })();\n",
              "  </script>\n",
              "</div>\n",
              "\n",
              "    </div>\n",
              "  </div>\n"
            ],
            "application/vnd.google.colaboratory.intrinsic+json": {
              "type": "dataframe",
              "variable_name": "df"
            }
          },
          "metadata": {},
          "execution_count": 3
        }
      ]
    },
    {
      "cell_type": "code",
      "source": [
        "df.shape"
      ],
      "metadata": {
        "colab": {
          "base_uri": "https://localhost:8080/"
        },
        "id": "6zHobuW7WL8A",
        "outputId": "82b6fa73-4d5f-44c4-9917-8f90f55b3ae5"
      },
      "execution_count": 4,
      "outputs": [
        {
          "output_type": "execute_result",
          "data": {
            "text/plain": [
              "(3803, 23)"
            ]
          },
          "metadata": {},
          "execution_count": 4
        }
      ]
    },
    {
      "cell_type": "code",
      "source": [
        "df.info()"
      ],
      "metadata": {
        "colab": {
          "base_uri": "https://localhost:8080/"
        },
        "id": "F4R26G_HWZ0Q",
        "outputId": "381bbda1-d813-4dda-d0f6-b542f0212752"
      },
      "execution_count": 5,
      "outputs": [
        {
          "output_type": "stream",
          "name": "stdout",
          "text": [
            "<class 'pandas.core.frame.DataFrame'>\n",
            "RangeIndex: 3803 entries, 0 to 3802\n",
            "Data columns (total 23 columns):\n",
            " #   Column               Non-Null Count  Dtype  \n",
            "---  ------               --------------  -----  \n",
            " 0   property_type        3803 non-null   object \n",
            " 1   society              3802 non-null   object \n",
            " 2   sector               3803 non-null   object \n",
            " 3   price                3785 non-null   float64\n",
            " 4   price_per_sqft       3785 non-null   float64\n",
            " 5   area                 3785 non-null   float64\n",
            " 6   areaWithType         3803 non-null   object \n",
            " 7   bedRoom              3803 non-null   int64  \n",
            " 8   bathroom             3803 non-null   int64  \n",
            " 9   balcony              3803 non-null   object \n",
            " 10  floorNum             3784 non-null   float64\n",
            " 11  facing               2698 non-null   object \n",
            " 12  agePossession        3803 non-null   object \n",
            " 13  super_built_up_area  1915 non-null   float64\n",
            " 14  built_up_area        1733 non-null   float64\n",
            " 15  carpet_area          1944 non-null   float64\n",
            " 16  study room           3803 non-null   int64  \n",
            " 17  servant room         3803 non-null   int64  \n",
            " 18  store room           3803 non-null   int64  \n",
            " 19  pooja room           3803 non-null   int64  \n",
            " 20  others               3803 non-null   int64  \n",
            " 21  furnishing_type      3803 non-null   int64  \n",
            " 22  luxury_score         3803 non-null   int64  \n",
            "dtypes: float64(7), int64(9), object(7)\n",
            "memory usage: 683.5+ KB\n"
          ]
        }
      ]
    },
    {
      "cell_type": "code",
      "source": [
        "df.isnull().sum().sort_values(ascending=False)"
      ],
      "metadata": {
        "colab": {
          "base_uri": "https://localhost:8080/"
        },
        "id": "lwfKheB5Wb5u",
        "outputId": "e5490bde-2b1d-4166-a0fa-9f9f9ce84d08"
      },
      "execution_count": 6,
      "outputs": [
        {
          "output_type": "execute_result",
          "data": {
            "text/plain": [
              "built_up_area          2070\n",
              "super_built_up_area    1888\n",
              "carpet_area            1859\n",
              "facing                 1105\n",
              "floorNum                 19\n",
              "price                    18\n",
              "price_per_sqft           18\n",
              "area                     18\n",
              "society                   1\n",
              "furnishing_type           0\n",
              "others                    0\n",
              "pooja room                0\n",
              "store room                0\n",
              "servant room              0\n",
              "study room                0\n",
              "property_type             0\n",
              "agePossession             0\n",
              "balcony                   0\n",
              "bathroom                  0\n",
              "bedRoom                   0\n",
              "areaWithType              0\n",
              "sector                    0\n",
              "luxury_score              0\n",
              "dtype: int64"
            ]
          },
          "metadata": {},
          "execution_count": 6
        }
      ]
    },
    {
      "cell_type": "code",
      "source": [
        "(df.isnull().sum()/len(df))*100"
      ],
      "metadata": {
        "colab": {
          "base_uri": "https://localhost:8080/"
        },
        "id": "_88AlXLJWgmg",
        "outputId": "8ba56834-c04d-4181-c38c-0643cf4b503f"
      },
      "execution_count": 7,
      "outputs": [
        {
          "output_type": "execute_result",
          "data": {
            "text/plain": [
              "property_type           0.000000\n",
              "society                 0.026295\n",
              "sector                  0.000000\n",
              "price                   0.473311\n",
              "price_per_sqft          0.473311\n",
              "area                    0.473311\n",
              "areaWithType            0.000000\n",
              "bedRoom                 0.000000\n",
              "bathroom                0.000000\n",
              "balcony                 0.000000\n",
              "floorNum                0.499606\n",
              "facing                 29.056008\n",
              "agePossession           0.000000\n",
              "super_built_up_area    49.645017\n",
              "built_up_area          54.430713\n",
              "carpet_area            48.882461\n",
              "study room              0.000000\n",
              "servant room            0.000000\n",
              "store room              0.000000\n",
              "pooja room              0.000000\n",
              "others                  0.000000\n",
              "furnishing_type         0.000000\n",
              "luxury_score            0.000000\n",
              "dtype: float64"
            ]
          },
          "metadata": {},
          "execution_count": 7
        }
      ]
    },
    {
      "cell_type": "code",
      "source": [
        "df.duplicated().sum()"
      ],
      "metadata": {
        "colab": {
          "base_uri": "https://localhost:8080/"
        },
        "id": "N_H1FxAQWrXh",
        "outputId": "f49dd4fc-d247-4077-e7ea-53530df77b98"
      },
      "execution_count": 8,
      "outputs": [
        {
          "output_type": "execute_result",
          "data": {
            "text/plain": [
              "126"
            ]
          },
          "metadata": {},
          "execution_count": 8
        }
      ]
    },
    {
      "cell_type": "markdown",
      "source": [
        "- there are 126 duplicated rows, we have to drop that"
      ],
      "metadata": {
        "id": "JRqkPeH_W4gg"
      }
    },
    {
      "cell_type": "code",
      "source": [
        "df.drop_duplicates(inplace=True)"
      ],
      "metadata": {
        "id": "gY_B5MgbW2Rw"
      },
      "execution_count": 9,
      "outputs": []
    },
    {
      "cell_type": "code",
      "source": [
        "df.duplicated().sum()"
      ],
      "metadata": {
        "colab": {
          "base_uri": "https://localhost:8080/"
        },
        "id": "rfaXSS1rXBGo",
        "outputId": "a2564b3e-8836-47e6-d658-f27084eeba86"
      },
      "execution_count": 10,
      "outputs": [
        {
          "output_type": "execute_result",
          "data": {
            "text/plain": [
              "0"
            ]
          },
          "metadata": {},
          "execution_count": 10
        }
      ]
    },
    {
      "cell_type": "code",
      "source": [
        "df.head()"
      ],
      "metadata": {
        "colab": {
          "base_uri": "https://localhost:8080/",
          "height": 516
        },
        "id": "4Pd1Vh72XCG4",
        "outputId": "aa2864a2-c426-4b35-9a43-bbfa38089ddd"
      },
      "execution_count": 11,
      "outputs": [
        {
          "output_type": "execute_result",
          "data": {
            "text/plain": [
              "  property_type                      society      sector  price  \\\n",
              "0          flat      signature global park 4   sector 36   0.82   \n",
              "1          flat             smart world gems   sector 89   0.95   \n",
              "2          flat                pyramid elite   sector 86   0.46   \n",
              "3          flat       breez global hill view  sohna road   0.32   \n",
              "4          flat  bestech park view sanskruti   sector 92   1.60   \n",
              "\n",
              "   price_per_sqft     area                                       areaWithType  \\\n",
              "0          7585.0   1081.0  Super Built up area 1081(100.43 sq.m.)Carpet a...   \n",
              "1          8600.0   1105.0                   Carpet area: 1103 (102.47 sq.m.)   \n",
              "2            79.0  58228.0                 Carpet area: 58141 (5401.48 sq.m.)   \n",
              "3          5470.0    585.0  Built Up area: 1000 (92.9 sq.m.)Carpet area: 5...   \n",
              "4          8020.0   1995.0  Super Built up area 1995(185.34 sq.m.)Built Up...   \n",
              "\n",
              "   bedRoom  bathroom balcony  ...  super_built_up_area built_up_area  \\\n",
              "0        3         2       2  ...               1081.0           NaN   \n",
              "1        2         2       2  ...                  NaN           NaN   \n",
              "2        2         2       1  ...                  NaN           NaN   \n",
              "3        2         2       1  ...                  NaN        1000.0   \n",
              "4        3         4      3+  ...               1995.0        1615.0   \n",
              "\n",
              "  carpet_area  study room  servant room  store room  pooja room  others  \\\n",
              "0       650.0           0             0           0           0       0   \n",
              "1      1103.0           1             1           0           0       0   \n",
              "2     58141.0           0             0           0           0       0   \n",
              "3       585.0           0             0           0           0       0   \n",
              "4      1476.0           0             1           0           0       1   \n",
              "\n",
              "   furnishing_type  luxury_score  \n",
              "0                0             8  \n",
              "1                0            38  \n",
              "2                0            15  \n",
              "3                0            49  \n",
              "4                1           174  \n",
              "\n",
              "[5 rows x 23 columns]"
            ],
            "text/html": [
              "\n",
              "  <div id=\"df-e7f89a8b-9ea0-4a8c-a2f7-4d5fcc52af05\" class=\"colab-df-container\">\n",
              "    <div>\n",
              "<style scoped>\n",
              "    .dataframe tbody tr th:only-of-type {\n",
              "        vertical-align: middle;\n",
              "    }\n",
              "\n",
              "    .dataframe tbody tr th {\n",
              "        vertical-align: top;\n",
              "    }\n",
              "\n",
              "    .dataframe thead th {\n",
              "        text-align: right;\n",
              "    }\n",
              "</style>\n",
              "<table border=\"1\" class=\"dataframe\">\n",
              "  <thead>\n",
              "    <tr style=\"text-align: right;\">\n",
              "      <th></th>\n",
              "      <th>property_type</th>\n",
              "      <th>society</th>\n",
              "      <th>sector</th>\n",
              "      <th>price</th>\n",
              "      <th>price_per_sqft</th>\n",
              "      <th>area</th>\n",
              "      <th>areaWithType</th>\n",
              "      <th>bedRoom</th>\n",
              "      <th>bathroom</th>\n",
              "      <th>balcony</th>\n",
              "      <th>...</th>\n",
              "      <th>super_built_up_area</th>\n",
              "      <th>built_up_area</th>\n",
              "      <th>carpet_area</th>\n",
              "      <th>study room</th>\n",
              "      <th>servant room</th>\n",
              "      <th>store room</th>\n",
              "      <th>pooja room</th>\n",
              "      <th>others</th>\n",
              "      <th>furnishing_type</th>\n",
              "      <th>luxury_score</th>\n",
              "    </tr>\n",
              "  </thead>\n",
              "  <tbody>\n",
              "    <tr>\n",
              "      <th>0</th>\n",
              "      <td>flat</td>\n",
              "      <td>signature global park 4</td>\n",
              "      <td>sector 36</td>\n",
              "      <td>0.82</td>\n",
              "      <td>7585.0</td>\n",
              "      <td>1081.0</td>\n",
              "      <td>Super Built up area 1081(100.43 sq.m.)Carpet a...</td>\n",
              "      <td>3</td>\n",
              "      <td>2</td>\n",
              "      <td>2</td>\n",
              "      <td>...</td>\n",
              "      <td>1081.0</td>\n",
              "      <td>NaN</td>\n",
              "      <td>650.0</td>\n",
              "      <td>0</td>\n",
              "      <td>0</td>\n",
              "      <td>0</td>\n",
              "      <td>0</td>\n",
              "      <td>0</td>\n",
              "      <td>0</td>\n",
              "      <td>8</td>\n",
              "    </tr>\n",
              "    <tr>\n",
              "      <th>1</th>\n",
              "      <td>flat</td>\n",
              "      <td>smart world gems</td>\n",
              "      <td>sector 89</td>\n",
              "      <td>0.95</td>\n",
              "      <td>8600.0</td>\n",
              "      <td>1105.0</td>\n",
              "      <td>Carpet area: 1103 (102.47 sq.m.)</td>\n",
              "      <td>2</td>\n",
              "      <td>2</td>\n",
              "      <td>2</td>\n",
              "      <td>...</td>\n",
              "      <td>NaN</td>\n",
              "      <td>NaN</td>\n",
              "      <td>1103.0</td>\n",
              "      <td>1</td>\n",
              "      <td>1</td>\n",
              "      <td>0</td>\n",
              "      <td>0</td>\n",
              "      <td>0</td>\n",
              "      <td>0</td>\n",
              "      <td>38</td>\n",
              "    </tr>\n",
              "    <tr>\n",
              "      <th>2</th>\n",
              "      <td>flat</td>\n",
              "      <td>pyramid elite</td>\n",
              "      <td>sector 86</td>\n",
              "      <td>0.46</td>\n",
              "      <td>79.0</td>\n",
              "      <td>58228.0</td>\n",
              "      <td>Carpet area: 58141 (5401.48 sq.m.)</td>\n",
              "      <td>2</td>\n",
              "      <td>2</td>\n",
              "      <td>1</td>\n",
              "      <td>...</td>\n",
              "      <td>NaN</td>\n",
              "      <td>NaN</td>\n",
              "      <td>58141.0</td>\n",
              "      <td>0</td>\n",
              "      <td>0</td>\n",
              "      <td>0</td>\n",
              "      <td>0</td>\n",
              "      <td>0</td>\n",
              "      <td>0</td>\n",
              "      <td>15</td>\n",
              "    </tr>\n",
              "    <tr>\n",
              "      <th>3</th>\n",
              "      <td>flat</td>\n",
              "      <td>breez global hill view</td>\n",
              "      <td>sohna road</td>\n",
              "      <td>0.32</td>\n",
              "      <td>5470.0</td>\n",
              "      <td>585.0</td>\n",
              "      <td>Built Up area: 1000 (92.9 sq.m.)Carpet area: 5...</td>\n",
              "      <td>2</td>\n",
              "      <td>2</td>\n",
              "      <td>1</td>\n",
              "      <td>...</td>\n",
              "      <td>NaN</td>\n",
              "      <td>1000.0</td>\n",
              "      <td>585.0</td>\n",
              "      <td>0</td>\n",
              "      <td>0</td>\n",
              "      <td>0</td>\n",
              "      <td>0</td>\n",
              "      <td>0</td>\n",
              "      <td>0</td>\n",
              "      <td>49</td>\n",
              "    </tr>\n",
              "    <tr>\n",
              "      <th>4</th>\n",
              "      <td>flat</td>\n",
              "      <td>bestech park view sanskruti</td>\n",
              "      <td>sector 92</td>\n",
              "      <td>1.60</td>\n",
              "      <td>8020.0</td>\n",
              "      <td>1995.0</td>\n",
              "      <td>Super Built up area 1995(185.34 sq.m.)Built Up...</td>\n",
              "      <td>3</td>\n",
              "      <td>4</td>\n",
              "      <td>3+</td>\n",
              "      <td>...</td>\n",
              "      <td>1995.0</td>\n",
              "      <td>1615.0</td>\n",
              "      <td>1476.0</td>\n",
              "      <td>0</td>\n",
              "      <td>1</td>\n",
              "      <td>0</td>\n",
              "      <td>0</td>\n",
              "      <td>1</td>\n",
              "      <td>1</td>\n",
              "      <td>174</td>\n",
              "    </tr>\n",
              "  </tbody>\n",
              "</table>\n",
              "<p>5 rows × 23 columns</p>\n",
              "</div>\n",
              "    <div class=\"colab-df-buttons\">\n",
              "\n",
              "  <div class=\"colab-df-container\">\n",
              "    <button class=\"colab-df-convert\" onclick=\"convertToInteractive('df-e7f89a8b-9ea0-4a8c-a2f7-4d5fcc52af05')\"\n",
              "            title=\"Convert this dataframe to an interactive table.\"\n",
              "            style=\"display:none;\">\n",
              "\n",
              "  <svg xmlns=\"http://www.w3.org/2000/svg\" height=\"24px\" viewBox=\"0 -960 960 960\">\n",
              "    <path d=\"M120-120v-720h720v720H120Zm60-500h600v-160H180v160Zm220 220h160v-160H400v160Zm0 220h160v-160H400v160ZM180-400h160v-160H180v160Zm440 0h160v-160H620v160ZM180-180h160v-160H180v160Zm440 0h160v-160H620v160Z\"/>\n",
              "  </svg>\n",
              "    </button>\n",
              "\n",
              "  <style>\n",
              "    .colab-df-container {\n",
              "      display:flex;\n",
              "      gap: 12px;\n",
              "    }\n",
              "\n",
              "    .colab-df-convert {\n",
              "      background-color: #E8F0FE;\n",
              "      border: none;\n",
              "      border-radius: 50%;\n",
              "      cursor: pointer;\n",
              "      display: none;\n",
              "      fill: #1967D2;\n",
              "      height: 32px;\n",
              "      padding: 0 0 0 0;\n",
              "      width: 32px;\n",
              "    }\n",
              "\n",
              "    .colab-df-convert:hover {\n",
              "      background-color: #E2EBFA;\n",
              "      box-shadow: 0px 1px 2px rgba(60, 64, 67, 0.3), 0px 1px 3px 1px rgba(60, 64, 67, 0.15);\n",
              "      fill: #174EA6;\n",
              "    }\n",
              "\n",
              "    .colab-df-buttons div {\n",
              "      margin-bottom: 4px;\n",
              "    }\n",
              "\n",
              "    [theme=dark] .colab-df-convert {\n",
              "      background-color: #3B4455;\n",
              "      fill: #D2E3FC;\n",
              "    }\n",
              "\n",
              "    [theme=dark] .colab-df-convert:hover {\n",
              "      background-color: #434B5C;\n",
              "      box-shadow: 0px 1px 3px 1px rgba(0, 0, 0, 0.15);\n",
              "      filter: drop-shadow(0px 1px 2px rgba(0, 0, 0, 0.3));\n",
              "      fill: #FFFFFF;\n",
              "    }\n",
              "  </style>\n",
              "\n",
              "    <script>\n",
              "      const buttonEl =\n",
              "        document.querySelector('#df-e7f89a8b-9ea0-4a8c-a2f7-4d5fcc52af05 button.colab-df-convert');\n",
              "      buttonEl.style.display =\n",
              "        google.colab.kernel.accessAllowed ? 'block' : 'none';\n",
              "\n",
              "      async function convertToInteractive(key) {\n",
              "        const element = document.querySelector('#df-e7f89a8b-9ea0-4a8c-a2f7-4d5fcc52af05');\n",
              "        const dataTable =\n",
              "          await google.colab.kernel.invokeFunction('convertToInteractive',\n",
              "                                                    [key], {});\n",
              "        if (!dataTable) return;\n",
              "\n",
              "        const docLinkHtml = 'Like what you see? Visit the ' +\n",
              "          '<a target=\"_blank\" href=https://colab.research.google.com/notebooks/data_table.ipynb>data table notebook</a>'\n",
              "          + ' to learn more about interactive tables.';\n",
              "        element.innerHTML = '';\n",
              "        dataTable['output_type'] = 'display_data';\n",
              "        await google.colab.output.renderOutput(dataTable, element);\n",
              "        const docLink = document.createElement('div');\n",
              "        docLink.innerHTML = docLinkHtml;\n",
              "        element.appendChild(docLink);\n",
              "      }\n",
              "    </script>\n",
              "  </div>\n",
              "\n",
              "\n",
              "<div id=\"df-ea7b8667-98cb-468e-b371-96cdd25f757d\">\n",
              "  <button class=\"colab-df-quickchart\" onclick=\"quickchart('df-ea7b8667-98cb-468e-b371-96cdd25f757d')\"\n",
              "            title=\"Suggest charts\"\n",
              "            style=\"display:none;\">\n",
              "\n",
              "<svg xmlns=\"http://www.w3.org/2000/svg\" height=\"24px\"viewBox=\"0 0 24 24\"\n",
              "     width=\"24px\">\n",
              "    <g>\n",
              "        <path d=\"M19 3H5c-1.1 0-2 .9-2 2v14c0 1.1.9 2 2 2h14c1.1 0 2-.9 2-2V5c0-1.1-.9-2-2-2zM9 17H7v-7h2v7zm4 0h-2V7h2v10zm4 0h-2v-4h2v4z\"/>\n",
              "    </g>\n",
              "</svg>\n",
              "  </button>\n",
              "\n",
              "<style>\n",
              "  .colab-df-quickchart {\n",
              "      --bg-color: #E8F0FE;\n",
              "      --fill-color: #1967D2;\n",
              "      --hover-bg-color: #E2EBFA;\n",
              "      --hover-fill-color: #174EA6;\n",
              "      --disabled-fill-color: #AAA;\n",
              "      --disabled-bg-color: #DDD;\n",
              "  }\n",
              "\n",
              "  [theme=dark] .colab-df-quickchart {\n",
              "      --bg-color: #3B4455;\n",
              "      --fill-color: #D2E3FC;\n",
              "      --hover-bg-color: #434B5C;\n",
              "      --hover-fill-color: #FFFFFF;\n",
              "      --disabled-bg-color: #3B4455;\n",
              "      --disabled-fill-color: #666;\n",
              "  }\n",
              "\n",
              "  .colab-df-quickchart {\n",
              "    background-color: var(--bg-color);\n",
              "    border: none;\n",
              "    border-radius: 50%;\n",
              "    cursor: pointer;\n",
              "    display: none;\n",
              "    fill: var(--fill-color);\n",
              "    height: 32px;\n",
              "    padding: 0;\n",
              "    width: 32px;\n",
              "  }\n",
              "\n",
              "  .colab-df-quickchart:hover {\n",
              "    background-color: var(--hover-bg-color);\n",
              "    box-shadow: 0 1px 2px rgba(60, 64, 67, 0.3), 0 1px 3px 1px rgba(60, 64, 67, 0.15);\n",
              "    fill: var(--button-hover-fill-color);\n",
              "  }\n",
              "\n",
              "  .colab-df-quickchart-complete:disabled,\n",
              "  .colab-df-quickchart-complete:disabled:hover {\n",
              "    background-color: var(--disabled-bg-color);\n",
              "    fill: var(--disabled-fill-color);\n",
              "    box-shadow: none;\n",
              "  }\n",
              "\n",
              "  .colab-df-spinner {\n",
              "    border: 2px solid var(--fill-color);\n",
              "    border-color: transparent;\n",
              "    border-bottom-color: var(--fill-color);\n",
              "    animation:\n",
              "      spin 1s steps(1) infinite;\n",
              "  }\n",
              "\n",
              "  @keyframes spin {\n",
              "    0% {\n",
              "      border-color: transparent;\n",
              "      border-bottom-color: var(--fill-color);\n",
              "      border-left-color: var(--fill-color);\n",
              "    }\n",
              "    20% {\n",
              "      border-color: transparent;\n",
              "      border-left-color: var(--fill-color);\n",
              "      border-top-color: var(--fill-color);\n",
              "    }\n",
              "    30% {\n",
              "      border-color: transparent;\n",
              "      border-left-color: var(--fill-color);\n",
              "      border-top-color: var(--fill-color);\n",
              "      border-right-color: var(--fill-color);\n",
              "    }\n",
              "    40% {\n",
              "      border-color: transparent;\n",
              "      border-right-color: var(--fill-color);\n",
              "      border-top-color: var(--fill-color);\n",
              "    }\n",
              "    60% {\n",
              "      border-color: transparent;\n",
              "      border-right-color: var(--fill-color);\n",
              "    }\n",
              "    80% {\n",
              "      border-color: transparent;\n",
              "      border-right-color: var(--fill-color);\n",
              "      border-bottom-color: var(--fill-color);\n",
              "    }\n",
              "    90% {\n",
              "      border-color: transparent;\n",
              "      border-bottom-color: var(--fill-color);\n",
              "    }\n",
              "  }\n",
              "</style>\n",
              "\n",
              "  <script>\n",
              "    async function quickchart(key) {\n",
              "      const quickchartButtonEl =\n",
              "        document.querySelector('#' + key + ' button');\n",
              "      quickchartButtonEl.disabled = true;  // To prevent multiple clicks.\n",
              "      quickchartButtonEl.classList.add('colab-df-spinner');\n",
              "      try {\n",
              "        const charts = await google.colab.kernel.invokeFunction(\n",
              "            'suggestCharts', [key], {});\n",
              "      } catch (error) {\n",
              "        console.error('Error during call to suggestCharts:', error);\n",
              "      }\n",
              "      quickchartButtonEl.classList.remove('colab-df-spinner');\n",
              "      quickchartButtonEl.classList.add('colab-df-quickchart-complete');\n",
              "    }\n",
              "    (() => {\n",
              "      let quickchartButtonEl =\n",
              "        document.querySelector('#df-ea7b8667-98cb-468e-b371-96cdd25f757d button');\n",
              "      quickchartButtonEl.style.display =\n",
              "        google.colab.kernel.accessAllowed ? 'block' : 'none';\n",
              "    })();\n",
              "  </script>\n",
              "</div>\n",
              "\n",
              "    </div>\n",
              "  </div>\n"
            ],
            "application/vnd.google.colaboratory.intrinsic+json": {
              "type": "dataframe",
              "variable_name": "df"
            }
          },
          "metadata": {},
          "execution_count": 11
        }
      ]
    },
    {
      "cell_type": "code",
      "source": [
        "df.shape"
      ],
      "metadata": {
        "colab": {
          "base_uri": "https://localhost:8080/"
        },
        "id": "QIk_TKTIXSaA",
        "outputId": "420c7045-8bd7-40f8-e829-ad8cc628ff9b"
      },
      "execution_count": 12,
      "outputs": [
        {
          "output_type": "execute_result",
          "data": {
            "text/plain": [
              "(3677, 23)"
            ]
          },
          "metadata": {},
          "execution_count": 12
        }
      ]
    },
    {
      "cell_type": "markdown",
      "source": [
        "# **property_type**"
      ],
      "metadata": {
        "id": "OvcGE97sXvH1"
      }
    },
    {
      "cell_type": "code",
      "source": [
        "df['property_type'].isna().sum()"
      ],
      "metadata": {
        "colab": {
          "base_uri": "https://localhost:8080/"
        },
        "id": "v5X0Yig2YZmh",
        "outputId": "b2d6c9e0-a1c4-4c5b-ffd3-ed3e900bdf3b"
      },
      "execution_count": 13,
      "outputs": [
        {
          "output_type": "execute_result",
          "data": {
            "text/plain": [
              "0"
            ]
          },
          "metadata": {},
          "execution_count": 13
        }
      ]
    },
    {
      "cell_type": "code",
      "source": [
        "(df['property_type'].value_counts()/len(df))*100"
      ],
      "metadata": {
        "colab": {
          "base_uri": "https://localhost:8080/"
        },
        "id": "pIVeyrtLXToo",
        "outputId": "6938f1fe-1f62-4764-e91b-e7047826df56"
      },
      "execution_count": 14,
      "outputs": [
        {
          "output_type": "execute_result",
          "data": {
            "text/plain": [
              "property_type\n",
              "flat     76.638564\n",
              "house    23.361436\n",
              "Name: count, dtype: float64"
            ]
          },
          "metadata": {},
          "execution_count": 14
        }
      ]
    },
    {
      "cell_type": "code",
      "source": [
        "df['property_type'].value_counts().plot(kind='bar')"
      ],
      "metadata": {
        "colab": {
          "base_uri": "https://localhost:8080/",
          "height": 494
        },
        "id": "jFIKM4S8Xz-g",
        "outputId": "ebb6c486-e70b-449c-dd0a-b6a6b7acec4e"
      },
      "execution_count": 15,
      "outputs": [
        {
          "output_type": "execute_result",
          "data": {
            "text/plain": [
              "<Axes: xlabel='property_type'>"
            ]
          },
          "metadata": {},
          "execution_count": 15
        },
        {
          "output_type": "display_data",
          "data": {
            "text/plain": [
              "<Figure size 640x480 with 1 Axes>"
            ],
            "image/png": "[encoded data removed]"
          },
          "metadata": {}
        }
      ]
    },
    {
      "cell_type": "markdown",
      "source": [
        "# **Observations**\n",
        "- In the data there are are `~77% of FLats` and `~33% of Houses`\n",
        "- No missing value in data"
      ],
      "metadata": {
        "id": "XtQLsvS7YdXN"
      }
    },
    {
      "cell_type": "markdown",
      "source": [
        "# **society**"
      ],
      "metadata": {
        "id": "KNlKZSg7Ypco"
      }
    },
    {
      "cell_type": "code",
      "source": [
        "df['society'].isna().sum()"
      ],
      "metadata": {
        "colab": {
          "base_uri": "https://localhost:8080/"
        },
        "id": "iVJAjlFhYR24",
        "outputId": "c69e4ac0-b147-4624-b498-4c87ad0d18d0"
      },
      "execution_count": 16,
      "outputs": [
        {
          "output_type": "execute_result",
          "data": {
            "text/plain": [
              "1"
            ]
          },
          "metadata": {},
          "execution_count": 16
        }
      ]
    },
    {
      "cell_type": "code",
      "source": [
        "df['society'].value_counts().shape"
      ],
      "metadata": {
        "colab": {
          "base_uri": "https://localhost:8080/"
        },
        "id": "kadCkLzzYthI",
        "outputId": "79522427-0f6f-411c-d5a7-ca109016ec69"
      },
      "execution_count": 17,
      "outputs": [
        {
          "output_type": "execute_result",
          "data": {
            "text/plain": [
              "(676,)"
            ]
          },
          "metadata": {},
          "execution_count": 17
        }
      ]
    },
    {
      "cell_type": "code",
      "source": [
        "df['society'].value_counts()"
      ],
      "metadata": {
        "colab": {
          "base_uri": "https://localhost:8080/"
        },
        "id": "mN2AFT31Y0y5",
        "outputId": "724efde9-a579-4b85-8793-fa5841ed5c22"
      },
      "execution_count": 18,
      "outputs": [
        {
          "output_type": "execute_result",
          "data": {
            "text/plain": [
              "society\n",
              "independent                               486\n",
              "tulip violet                               75\n",
              "ss the leaf                                73\n",
              "dlf new town heights                       42\n",
              "shapoorji pallonji joyville gurugram       42\n",
              "                                         ... \n",
              "dlf gardencity enclave                      1\n",
              "nitin vihar                                 1\n",
              "landmark the residency                      1\n",
              "kw royal court                              1\n",
              "surendra homes dayaindependentd colony      1\n",
              "Name: count, Length: 676, dtype: int64"
            ]
          },
          "metadata": {},
          "execution_count": 18
        }
      ]
    },
    {
      "cell_type": "code",
      "source": [
        "df[df['society'] != 'independent']['society'].value_counts(normalize=True).cumsum().head(75)"
      ],
      "metadata": {
        "colab": {
          "base_uri": "https://localhost:8080/"
        },
        "id": "KWwY8Oi1Y3rJ",
        "outputId": "234306cd-1e7b-4b6e-90f9-6d8237bf6529"
      },
      "execution_count": 19,
      "outputs": [
        {
          "output_type": "execute_result",
          "data": {
            "text/plain": [
              "society\n",
              "tulip violet                            0.023511\n",
              "ss the leaf                             0.046395\n",
              "shapoorji pallonji joyville gurugram    0.059561\n",
              "dlf new town heights                    0.072727\n",
              "signature global park                   0.083699\n",
              "                                          ...   \n",
              "ramsons kshitij                         0.490282\n",
              "umang monsoon breeze                    0.494357\n",
              "ats kocoon                              0.498433\n",
              "ireo the corridors                      0.502194\n",
              "central park flower valley              0.505956\n",
              "Name: proportion, Length: 75, dtype: float64"
            ]
          },
          "metadata": {},
          "execution_count": 19
        }
      ]
    },
    {
      "cell_type": "code",
      "source": [
        "socienty_counts = df['society'].value_counts()\n",
        "\n",
        "# Frequency distribution for societies\n",
        "frequency_bins = {\n",
        "    \"Very High (>100)\": (socienty_counts > 100).sum(),\n",
        "    \"High (50-100)\": ((socienty_counts >= 50) & (socienty_counts <= 100)).sum(),\n",
        "    \"Average (10-49)\": ((socienty_counts >= 10) & (socienty_counts <= 49)).sum(),\n",
        "    \"Low (2-9)\": ((socienty_counts > 1) & (socienty_counts < 10)).sum(),\n",
        "    \"Very Low (1)\": (socienty_counts == 1).sum()\n",
        "}\n",
        "frequency_bins"
      ],
      "metadata": {
        "colab": {
          "base_uri": "https://localhost:8080/"
        },
        "id": "JJEIKi1eZwmB",
        "outputId": "8ef5b461-d6fb-44e4-ac19-97ba43159d33"
      },
      "execution_count": 20,
      "outputs": [
        {
          "output_type": "execute_result",
          "data": {
            "text/plain": [
              "{'Very High (>100)': 1,\n",
              " 'High (50-100)': 2,\n",
              " 'Average (10-49)': 92,\n",
              " 'Low (2-9)': 273,\n",
              " 'Very Low (1)': 308}"
            ]
          },
          "metadata": {},
          "execution_count": 20
        }
      ]
    },
    {
      "cell_type": "code",
      "source": [
        "# top 10 socities\n",
        "df[df['society'] != 'independent']['society'].value_counts().head(10).plot(kind='barh')"
      ],
      "metadata": {
        "colab": {
          "base_uri": "https://localhost:8080/",
          "height": 447
        },
        "id": "G-_4Uioqa9Vr",
        "outputId": "1294d441-04c3-47bb-dc42-b8b2988068fe"
      },
      "execution_count": 21,
      "outputs": [
        {
          "output_type": "execute_result",
          "data": {
            "text/plain": [
              "<Axes: ylabel='society'>"
            ]
          },
          "metadata": {},
          "execution_count": 21
        },
        {
          "output_type": "display_data",
          "data": {
            "text/plain": [
              "<Figure size 640x480 with 1 Axes>"
            ],
            "image/png": "[encoded data removed]"
          },
          "metadata": {}
        }
      ]
    },
    {
      "cell_type": "code",
      "source": [
        "df['society'].isnull().sum()"
      ],
      "metadata": {
        "colab": {
          "base_uri": "https://localhost:8080/"
        },
        "id": "fdTzrgRjbSuS",
        "outputId": "c479447e-9d45-4c0c-fd39-6a48cad78172"
      },
      "execution_count": 22,
      "outputs": [
        {
          "output_type": "execute_result",
          "data": {
            "text/plain": [
              "1"
            ]
          },
          "metadata": {},
          "execution_count": 22
        }
      ]
    },
    {
      "cell_type": "code",
      "source": [
        "df[df['society'].isnull()]"
      ],
      "metadata": {
        "colab": {
          "base_uri": "https://localhost:8080/",
          "height": 182
        },
        "id": "OEEe9DmDbj4R",
        "outputId": "1d9e3a5c-6915-4242-bdde-48eeb4e84575"
      },
      "execution_count": 23,
      "outputs": [
        {
          "output_type": "execute_result",
          "data": {
            "text/plain": [
              "     property_type society     sector  price  price_per_sqft    area  \\\n",
              "2693          flat     NaN  sector 78    0.6          3692.0  1625.0   \n",
              "\n",
              "                            areaWithType  bedRoom  bathroom balcony  ...  \\\n",
              "2693  Built Up area: 1625 (150.97 sq.m.)        2         2       0  ...   \n",
              "\n",
              "      super_built_up_area built_up_area carpet_area  study room  servant room  \\\n",
              "2693                  NaN        1625.0         NaN           0             0   \n",
              "\n",
              "      store room  pooja room  others  furnishing_type  luxury_score  \n",
              "2693           0           0       0                0             0  \n",
              "\n",
              "[1 rows x 23 columns]"
            ],
            "text/html": [
              "\n",
              "  <div id=\"df-6f7a094a-fd29-463f-b564-070d0a987d0f\" class=\"colab-df-container\">\n",
              "    <div>\n",
              "<style scoped>\n",
              "    .dataframe tbody tr th:only-of-type {\n",
              "        vertical-align: middle;\n",
              "    }\n",
              "\n",
              "    .dataframe tbody tr th {\n",
              "        vertical-align: top;\n",
              "    }\n",
              "\n",
              "    .dataframe thead th {\n",
              "        text-align: right;\n",
              "    }\n",
              "</style>\n",
              "<table border=\"1\" class=\"dataframe\">\n",
              "  <thead>\n",
              "    <tr style=\"text-align: right;\">\n",
              "      <th></th>\n",
              "      <th>property_type</th>\n",
              "      <th>society</th>\n",
              "      <th>sector</th>\n",
              "      <th>price</th>\n",
              "      <th>price_per_sqft</th>\n",
              "      <th>area</th>\n",
              "      <th>areaWithType</th>\n",
              "      <th>bedRoom</th>\n",
              "      <th>bathroom</th>\n",
              "      <th>balcony</th>\n",
              "      <th>...</th>\n",
              "      <th>super_built_up_area</th>\n",
              "      <th>built_up_area</th>\n",
              "      <th>carpet_area</th>\n",
              "      <th>study room</th>\n",
              "      <th>servant room</th>\n",
              "      <th>store room</th>\n",
              "      <th>pooja room</th>\n",
              "      <th>others</th>\n",
              "      <th>furnishing_type</th>\n",
              "      <th>luxury_score</th>\n",
              "    </tr>\n",
              "  </thead>\n",
              "  <tbody>\n",
              "    <tr>\n",
              "      <th>2693</th>\n",
              "      <td>flat</td>\n",
              "      <td>NaN</td>\n",
              "      <td>sector 78</td>\n",
              "      <td>0.6</td>\n",
              "      <td>3692.0</td>\n",
              "      <td>1625.0</td>\n",
              "      <td>Built Up area: 1625 (150.97 sq.m.)</td>\n",
              "      <td>2</td>\n",
              "      <td>2</td>\n",
              "      <td>0</td>\n",
              "      <td>...</td>\n",
              "      <td>NaN</td>\n",
              "      <td>1625.0</td>\n",
              "      <td>NaN</td>\n",
              "      <td>0</td>\n",
              "      <td>0</td>\n",
              "      <td>0</td>\n",
              "      <td>0</td>\n",
              "      <td>0</td>\n",
              "      <td>0</td>\n",
              "      <td>0</td>\n",
              "    </tr>\n",
              "  </tbody>\n",
              "</table>\n",
              "<p>1 rows × 23 columns</p>\n",
              "</div>\n",
              "    <div class=\"colab-df-buttons\">\n",
              "\n",
              "  <div class=\"colab-df-container\">\n",
              "    <button class=\"colab-df-convert\" onclick=\"convertToInteractive('df-6f7a094a-fd29-463f-b564-070d0a987d0f')\"\n",
              "            title=\"Convert this dataframe to an interactive table.\"\n",
              "            style=\"display:none;\">\n",
              "\n",
              "  <svg xmlns=\"http://www.w3.org/2000/svg\" height=\"24px\" viewBox=\"0 -960 960 960\">\n",
              "    <path d=\"M120-120v-720h720v720H120Zm60-500h600v-160H180v160Zm220 220h160v-160H400v160Zm0 220h160v-160H400v160ZM180-400h160v-160H180v160Zm440 0h160v-160H620v160ZM180-180h160v-160H180v160Zm440 0h160v-160H620v160Z\"/>\n",
              "  </svg>\n",
              "    </button>\n",
              "\n",
              "  <style>\n",
              "    .colab-df-container {\n",
              "      display:flex;\n",
              "      gap: 12px;\n",
              "    }\n",
              "\n",
              "    .colab-df-convert {\n",
              "      background-color: #E8F0FE;\n",
              "      border: none;\n",
              "      border-radius: 50%;\n",
              "      cursor: pointer;\n",
              "      display: none;\n",
              "      fill: #1967D2;\n",
              "      height: 32px;\n",
              "      padding: 0 0 0 0;\n",
              "      width: 32px;\n",
              "    }\n",
              "\n",
              "    .colab-df-convert:hover {\n",
              "      background-color: #E2EBFA;\n",
              "      box-shadow: 0px 1px 2px rgba(60, 64, 67, 0.3), 0px 1px 3px 1px rgba(60, 64, 67, 0.15);\n",
              "      fill: #174EA6;\n",
              "    }\n",
              "\n",
              "    .colab-df-buttons div {\n",
              "      margin-bottom: 4px;\n",
              "    }\n",
              "\n",
              "    [theme=dark] .colab-df-convert {\n",
              "      background-color: #3B4455;\n",
              "      fill: #D2E3FC;\n",
              "    }\n",
              "\n",
              "    [theme=dark] .colab-df-convert:hover {\n",
              "      background-color: #434B5C;\n",
              "      box-shadow: 0px 1px 3px 1px rgba(0, 0, 0, 0.15);\n",
              "      filter: drop-shadow(0px 1px 2px rgba(0, 0, 0, 0.3));\n",
              "      fill: #FFFFFF;\n",
              "    }\n",
              "  </style>\n",
              "\n",
              "    <script>\n",
              "      const buttonEl =\n",
              "        document.querySelector('#df-6f7a094a-fd29-463f-b564-070d0a987d0f button.colab-df-convert');\n",
              "      buttonEl.style.display =\n",
              "        google.colab.kernel.accessAllowed ? 'block' : 'none';\n",
              "\n",
              "      async function convertToInteractive(key) {\n",
              "        const element = document.querySelector('#df-6f7a094a-fd29-463f-b564-070d0a987d0f');\n",
              "        const dataTable =\n",
              "          await google.colab.kernel.invokeFunction('convertToInteractive',\n",
              "                                                    [key], {});\n",
              "        if (!dataTable) return;\n",
              "\n",
              "        const docLinkHtml = 'Like what you see? Visit the ' +\n",
              "          '<a target=\"_blank\" href=https://colab.research.google.com/notebooks/data_table.ipynb>data table notebook</a>'\n",
              "          + ' to learn more about interactive tables.';\n",
              "        element.innerHTML = '';\n",
              "        dataTable['output_type'] = 'display_data';\n",
              "        await google.colab.output.renderOutput(dataTable, element);\n",
              "        const docLink = document.createElement('div');\n",
              "        docLink.innerHTML = docLinkHtml;\n",
              "        element.appendChild(docLink);\n",
              "      }\n",
              "    </script>\n",
              "  </div>\n",
              "\n",
              "\n",
              "    </div>\n",
              "  </div>\n"
            ],
            "application/vnd.google.colaboratory.intrinsic+json": {
              "type": "dataframe"
            }
          },
          "metadata": {},
          "execution_count": 23
        }
      ]
    },
    {
      "cell_type": "markdown",
      "source": [
        "# **Obeservations:**\n",
        "    - Around 13% properties comes under independent tag.\n",
        "    - There are 675 societies.\n",
        "    - The top 75 societies have 50 percent of the preperties and the rest 50 percent of the properties come under the remaining 600 societies\n",
        "        - Very High (>100): Only 1 society has more than 100 listings.\n",
        "        - High (50-100): 2 societies have between 50 to 100 listings.\n",
        "        - Average (10-49): 92 societies fall in this range with 10 to 49 listings each.\n",
        "        - Low (2-9): 273 societies have between 2 to 9 listings.\n",
        "        - Very Low (1): A significant number, 308 societies, have only 1 listing.\n",
        "    - There is only 1 Missing value."
      ],
      "metadata": {
        "id": "D2shF1Qxbp6k"
      }
    },
    {
      "cell_type": "markdown",
      "source": [
        "# **sector**"
      ],
      "metadata": {
        "id": "DLhDLSkncTGL"
      }
    },
    {
      "cell_type": "code",
      "source": [
        "# unique sectors\n",
        "df['sector'].nunique()"
      ],
      "metadata": {
        "colab": {
          "base_uri": "https://localhost:8080/"
        },
        "id": "_uJiXVS0bmQC",
        "outputId": "e4def5fb-f0e0-4f2b-a693-6a6f49bfcce9"
      },
      "execution_count": 24,
      "outputs": [
        {
          "output_type": "execute_result",
          "data": {
            "text/plain": [
              "113"
            ]
          },
          "metadata": {},
          "execution_count": 24
        }
      ]
    },
    {
      "cell_type": "code",
      "source": [
        "df['sector'].value_counts().shape"
      ],
      "metadata": {
        "colab": {
          "base_uri": "https://localhost:8080/"
        },
        "id": "vlY4nX7xdXC8",
        "outputId": "91609b13-cae5-4aa0-d9cf-4e42cd1518c9"
      },
      "execution_count": 25,
      "outputs": [
        {
          "output_type": "execute_result",
          "data": {
            "text/plain": [
              "(113,)"
            ]
          },
          "metadata": {},
          "execution_count": 25
        }
      ]
    },
    {
      "cell_type": "code",
      "source": [
        "df['sector'].value_counts().head(10).plot(kind='bar')"
      ],
      "metadata": {
        "colab": {
          "base_uri": "https://localhost:8080/",
          "height": 532
        },
        "id": "8ZdkTfBPddIK",
        "outputId": "42e7aa11-7b22-4941-be45-faa4cf33175f"
      },
      "execution_count": 26,
      "outputs": [
        {
          "output_type": "execute_result",
          "data": {
            "text/plain": [
              "<Axes: xlabel='sector'>"
            ]
          },
          "metadata": {},
          "execution_count": 26
        },
        {
          "output_type": "display_data",
          "data": {
            "text/plain": [
              "<Figure size 640x480 with 1 Axes>"
            ],
            "image/png": "[encoded data removed]"
          },
          "metadata": {}
        }
      ]
    },
    {
      "cell_type": "code",
      "source": [
        "sector_counts = df['sector'].value_counts()\n",
        "\n",
        "# Frequency distribution for societies\n",
        "sector_frequency_bins = {\n",
        "    \"Very High (>100)\": (sector_counts > 100).sum(),\n",
        "    \"High (50-100)\": ((sector_counts >= 50) & (sector_counts <= 100)).sum(),\n",
        "    \"Average (10-49)\": ((sector_counts >= 10) & (sector_counts <= 49)).sum(),\n",
        "    \"Low (2-9)\": ((sector_counts > 1) & (sector_counts < 10)).sum(),\n",
        "    \"Very Low (1)\": (sector_counts == 1).sum()\n",
        "}\n",
        "sector_frequency_bins"
      ],
      "metadata": {
        "colab": {
          "base_uri": "https://localhost:8080/"
        },
        "id": "2t6Rer4kdlXK",
        "outputId": "0724db57-49d1-4af3-d12f-9f323b79f25b"
      },
      "execution_count": 27,
      "outputs": [
        {
          "output_type": "execute_result",
          "data": {
            "text/plain": [
              "{'Very High (>100)': 3,\n",
              " 'High (50-100)': 25,\n",
              " 'Average (10-49)': 63,\n",
              " 'Low (2-9)': 21,\n",
              " 'Very Low (1)': 1}"
            ]
          },
          "metadata": {},
          "execution_count": 27
        }
      ]
    },
    {
      "cell_type": "code",
      "source": [
        "sorted_data = dict(sorted(sector_frequency_bins.items(), key=lambda item: item[1]))\n",
        "sorted_data"
      ],
      "metadata": {
        "colab": {
          "base_uri": "https://localhost:8080/"
        },
        "id": "fu2-uqcpd7Ez",
        "outputId": "fc6bb1f3-f875-4629-eecb-2d61f8e7c6c5"
      },
      "execution_count": 28,
      "outputs": [
        {
          "output_type": "execute_result",
          "data": {
            "text/plain": [
              "{'Very Low (1)': 1,\n",
              " 'Very High (>100)': 3,\n",
              " 'Low (2-9)': 21,\n",
              " 'High (50-100)': 25,\n",
              " 'Average (10-49)': 63}"
            ]
          },
          "metadata": {},
          "execution_count": 28
        }
      ]
    },
    {
      "cell_type": "markdown",
      "source": [
        "# **Observations**\n",
        "- There are a total of 104 unique sectors in the dataset.\n",
        "- Frequency distribution of sectors:\n",
        "    - Very High (>100): 3 sectors have more than 100 listings.\n",
        "    - High (50-100): 25 sectors have between 50 to 100 listings.\n",
        "    - Average (10-49): A majority, 60 sectors, fall in this range with 10 to 49 listings each.\n",
        "    - Low (2-9): 16 sectors have between 2 to 9 listings.\n",
        "    - Very Low (1): Interestingly, there are no sectors with only 1 listing."
      ],
      "metadata": {
        "id": "AMiGZ7RneS9L"
      }
    },
    {
      "cell_type": "markdown",
      "source": [
        "# **Price**"
      ],
      "metadata": {
        "id": "cgK7vO7teqwc"
      }
    },
    {
      "cell_type": "code",
      "source": [
        "df['price'].isnull().sum()"
      ],
      "metadata": {
        "colab": {
          "base_uri": "https://localhost:8080/"
        },
        "id": "DjPqFDnMeJqa",
        "outputId": "76ee386d-3ee9-4058-dc2b-79e7259b1e10"
      },
      "execution_count": 29,
      "outputs": [
        {
          "output_type": "execute_result",
          "data": {
            "text/plain": [
              "17"
            ]
          },
          "metadata": {},
          "execution_count": 29
        }
      ]
    },
    {
      "cell_type": "code",
      "source": [
        "df['price'].describe()"
      ],
      "metadata": {
        "colab": {
          "base_uri": "https://localhost:8080/"
        },
        "id": "2PueCUIHes5S",
        "outputId": "f9e1391f-87d7-4255-ad6c-e414628271db"
      },
      "execution_count": 30,
      "outputs": [
        {
          "output_type": "execute_result",
          "data": {
            "text/plain": [
              "count    3660.000000\n",
              "mean        2.533664\n",
              "std         2.980623\n",
              "min         0.070000\n",
              "25%         0.950000\n",
              "50%         1.520000\n",
              "75%         2.750000\n",
              "max        31.500000\n",
              "Name: price, dtype: float64"
            ]
          },
          "metadata": {},
          "execution_count": 30
        }
      ]
    },
    {
      "cell_type": "code",
      "source": [
        "sns.histplot(df['price'], kde=True, bins=25)"
      ],
      "metadata": {
        "colab": {
          "base_uri": "https://localhost:8080/",
          "height": 466
        },
        "id": "tnB2Rjedew8C",
        "outputId": "450f278d-d8e0-45dc-ad73-6cff4fa6ad36"
      },
      "execution_count": 31,
      "outputs": [
        {
          "output_type": "execute_result",
          "data": {
            "text/plain": [
              "<Axes: xlabel='price', ylabel='Count'>"
            ]
          },
          "metadata": {},
          "execution_count": 31
        },
        {
          "output_type": "display_data",
          "data": {
            "text/plain": [
              "<Figure size 640x480 with 1 Axes>"
            ],
            "image/png": "[encoded data removed]"
          },
          "metadata": {}
        }
      ]
    },
    {
      "cell_type": "code",
      "source": [
        "sns.boxplot(x=df['price'],color='lightgreen')\n",
        "plt.grid()"
      ],
      "metadata": {
        "colab": {
          "base_uri": "https://localhost:8080/",
          "height": 449
        },
        "id": "xPaUa70Xe_-r",
        "outputId": "f2e7a7e2-a0a2-4069-84f2-e6ca0e15503b"
      },
      "execution_count": 32,
      "outputs": [
        {
          "output_type": "display_data",
          "data": {
            "text/plain": [
              "<Figure size 640x480 with 1 Axes>"
            ],
            "image/png": "[encoded data removed]"
          },
          "metadata": {}
        }
      ]
    },
    {
      "cell_type": "markdown",
      "source": [
        "# **Obsservations:**\n",
        "- **Descriptive Statistics:**\n",
        "    \n",
        "    - **Count**:There are 3,660 non-missing price entities.\n",
        "    - **Mean Price**: The average price is aproximately `2.53 cores`.\n",
        "    - **Median Price**: The median (or 50th percentile) price is `1.52 crores`.\n",
        "    - **Standard Deviation**: The prices have a standard deviation of `2.98`, indicating variability in the prices.\n",
        "    - **Range**: Prices range from a minimum of `0.07 crores` to a maximum of `31.5 crores`.\n",
        "    - **IQR**: The interquartile range (difference between 75th and 25th percentile) is from 0.95 crores to 2.75 crores.\n",
        "\n",
        "\n",
        "---\n",
        "\n",
        "- **Visualizations**:\n",
        "\n",
        "    - **Distribution**: The histogram indicates that most properties are priced in the lower range (below 5 crores), with a few properties going beyond 10 crores.\n",
        "    - **Box Plot**: The box plot showcases the spread of the data and potential outliers. Properties priced above approximately 10 crores might be considered outliers as they lie beyond the upper whisker of the box plot.\n",
        "\n",
        "---\n",
        "\n",
        "- **Missing Values**: There are 17 missing values in the price column."
      ],
      "metadata": {
        "id": "AfZuBO_zf20K"
      }
    },
    {
      "cell_type": "code",
      "source": [
        "# Skewness and Kurtosis\n",
        "\n",
        "skewness = df['price'].skew()\n",
        "kurtosis = df['price'].kurt()\n",
        "\n",
        "print(\"Skewness is:\",round(skewness,2))\n",
        "print(\"Kurtosis is: \",round(kurtosis,2))"
      ],
      "metadata": {
        "colab": {
          "base_uri": "https://localhost:8080/"
        },
        "id": "Mg0Ec1S6fkxj",
        "outputId": "4ea9dab0-f3a1-4405-a9b6-3c964d3dfc65"
      },
      "execution_count": 33,
      "outputs": [
        {
          "output_type": "stream",
          "name": "stdout",
          "text": [
            "Skewness is: 3.28\n",
            "Kurtosis is:  14.93\n"
          ]
        }
      ]
    },
    {
      "cell_type": "markdown",
      "source": [
        "**Skewness**: The price distribution has a skewness of approximately 3.28, indicating a positive skew. This means that the distribution tail is skewed to the right, which aligns with our observation from the histogram where most properties have prices on the lower end with a few high-priced properties.\n",
        "\n",
        "\n",
        "---\n",
        "\n",
        "\n",
        "**Kurtosis**: The kurtosis value is approximately 14.93. A *kurtosis value greater than 3 indicates a distribution with heavier tails and more outliers compared to a normal distribution*."
      ],
      "metadata": {
        "id": "uaEAP-MmjOa4"
      }
    },
    {
      "cell_type": "code",
      "source": [
        "# Quantile Analysis\n",
        "quantiles = df['price'].quantile([0.01, 0.05, 0.95, 0.99])\n",
        "quantiles"
      ],
      "metadata": {
        "colab": {
          "base_uri": "https://localhost:8080/"
        },
        "id": "mvbJD9BPi64N",
        "outputId": "588bf5d6-361d-4480-84a8-ca4a2d5ff62e"
      },
      "execution_count": 34,
      "outputs": [
        {
          "output_type": "execute_result",
          "data": {
            "text/plain": [
              "0.01     0.250\n",
              "0.05     0.370\n",
              "0.95     8.500\n",
              "0.99    15.264\n",
              "Name: price, dtype: float64"
            ]
          },
          "metadata": {},
          "execution_count": 34
        }
      ]
    },
    {
      "cell_type": "markdown",
      "source": [
        "# **Quantile Analysis:**\n",
        "\n",
        "- **1% Quantile**: Only 1% of properties are priced below 0.25 crores.\n",
        "- **5% Quantile**: 5% of properties are priced below 0.37 crores.\n",
        "- 95% Quantile: 95% of properties are priced below 8.5 crores.\n",
        "- **99% Quantile**: 99% of properties are priced below 15.26 crores, indicating that very few properties are priced above this value"
      ],
      "metadata": {
        "id": "CSjZfBChodoT"
      }
    },
    {
      "cell_type": "markdown",
      "source": [
        "# **IQR**"
      ],
      "metadata": {
        "id": "5MQa20i_ovfl"
      }
    },
    {
      "cell_type": "code",
      "source": [
        "# Identify potential outliers using IQR method\n",
        "Q1 = df['price'].describe()['25%']\n",
        "Q3 = df['price'].describe()['75%']\n",
        "iqr = Q3-Q1\n",
        "print(\"IQR is: \",iqr)"
      ],
      "metadata": {
        "colab": {
          "base_uri": "https://localhost:8080/"
        },
        "id": "UxYhehmrjr9l",
        "outputId": "b07d3f8b-4197-4774-d5b9-7ca1bd6c6c94"
      },
      "execution_count": 35,
      "outputs": [
        {
          "output_type": "stream",
          "name": "stdout",
          "text": [
            "IQR is:  1.8\n"
          ]
        }
      ]
    },
    {
      "cell_type": "code",
      "source": [
        "# Remove NaN values\n",
        "clean_data = [x for x in df['price'] if not np.isnan(x)]\n",
        "\n",
        "# Calculate quartiles\n",
        "q1 = np.percentile(clean_data, 25)\n",
        "q3 = np.percentile(clean_data, 75)\n",
        "\n",
        "# Check for NaN after calculation\n",
        "if np.isnan(q1) or np.isnan(q3):\n",
        "    print(\"Quartile calculation resulted in NaN. Check your data.\")\n",
        "else:\n",
        "    iqr = q3 - q1\n",
        "    print(\"Interquartile Range (IQR):\", iqr)"
      ],
      "metadata": {
        "colab": {
          "base_uri": "https://localhost:8080/"
        },
        "id": "CCpMYeAYpMFT",
        "outputId": "a40ec681-55c3-496c-ccc6-87cc6792c8df"
      },
      "execution_count": 36,
      "outputs": [
        {
          "output_type": "stream",
          "name": "stdout",
          "text": [
            "Interquartile Range (IQR): 1.8\n"
          ]
        }
      ]
    },
    {
      "cell_type": "code",
      "source": [
        "q3-q1"
      ],
      "metadata": {
        "colab": {
          "base_uri": "https://localhost:8080/"
        },
        "id": "V38gp_NlpRY-",
        "outputId": "2c02efe7-50ad-449f-f24f-3d351e2ee49f"
      },
      "execution_count": 37,
      "outputs": [
        {
          "output_type": "execute_result",
          "data": {
            "text/plain": [
              "1.8"
            ]
          },
          "metadata": {},
          "execution_count": 37
        }
      ]
    },
    {
      "cell_type": "code",
      "source": [
        "lower_bound = q1 - 1.5 * iqr\n",
        "upper_bound = q1 + 1.5 * iqr\n",
        "print(f\"Lower Bound = {lower_bound}\\nUpper Bound = {upper_bound}\")"
      ],
      "metadata": {
        "colab": {
          "base_uri": "https://localhost:8080/"
        },
        "id": "n0V_VQK9pUEG",
        "outputId": "5cacd96a-8df2-40e9-d8f0-d2d12db91eae"
      },
      "execution_count": 38,
      "outputs": [
        {
          "output_type": "stream",
          "name": "stdout",
          "text": [
            "Lower Bound = -1.7500000000000002\n",
            "Upper Bound = 3.6500000000000004\n"
          ]
        }
      ]
    },
    {
      "cell_type": "code",
      "source": [
        "outliers = df[(df['price'] < lower_bound) | (df['price'] > upper_bound)]\n",
        "outliers.shape"
      ],
      "metadata": {
        "colab": {
          "base_uri": "https://localhost:8080/"
        },
        "id": "Rs7rL-RsqrsP",
        "outputId": "631b12b2-598c-4b7c-efc7-ace25e2497c2"
      },
      "execution_count": 39,
      "outputs": [
        {
          "output_type": "execute_result",
          "data": {
            "text/plain": [
              "(652, 23)"
            ]
          },
          "metadata": {},
          "execution_count": 39
        }
      ]
    },
    {
      "cell_type": "code",
      "source": [
        "outliers['price'].describe()"
      ],
      "metadata": {
        "colab": {
          "base_uri": "https://localhost:8080/"
        },
        "id": "x_aVD_aOrH6v",
        "outputId": "51aa9ac5-c217-4162-9a03-04dfa2af6789"
      },
      "execution_count": 40,
      "outputs": [
        {
          "output_type": "execute_result",
          "data": {
            "text/plain": [
              "count    652.000000\n",
              "mean       7.561764\n",
              "std        4.012105\n",
              "min        3.670000\n",
              "25%        4.750000\n",
              "50%        6.300000\n",
              "75%        9.000000\n",
              "max       31.500000\n",
              "Name: price, dtype: float64"
            ]
          },
          "metadata": {},
          "execution_count": 40
        }
      ]
    },
    {
      "cell_type": "markdown",
      "source": [
        "# **Outliers Analysis (using IQR method):**\n",
        "\n",
        "- Based on the IQR method, there are 652 properties considered as outliers.\n",
        "- These outliers have an average price of approximately 7.56 crores.\n",
        "- The range for these outliers is from 5.46 crores to 31.5 crores."
      ],
      "metadata": {
        "id": "FZqwT2lgrl3d"
      }
    },
    {
      "cell_type": "code",
      "source": [
        "# price binning\n",
        "bins = [0, 1, 2, 3, 5, 10, 20, 50, 100]\n",
        "bin_labels = [\"0-1\",\"1-2\",\"2-3\",\"3-5\",\"5-10\",\"10-20\",\"20-50\",\"50-100\"]\n",
        "pd.cut(df['price'], bins=bins, labels=bin_labels, right=False).value_counts().sort_index().plot(kind='bar')"
      ],
      "metadata": {
        "colab": {
          "base_uri": "https://localhost:8080/",
          "height": 501
        },
        "id": "8Fu9p43mrXE-",
        "outputId": "17493bc1-a84e-47cd-d6e9-9ff5d36f3a01"
      },
      "execution_count": 41,
      "outputs": [
        {
          "output_type": "execute_result",
          "data": {
            "text/plain": [
              "<Axes: xlabel='price'>"
            ]
          },
          "metadata": {},
          "execution_count": 41
        },
        {
          "output_type": "display_data",
          "data": {
            "text/plain": [
              "<Figure size 640x480 with 1 Axes>"
            ],
            "image/png": "[encoded data removed]"
          },
          "metadata": {}
        }
      ]
    },
    {
      "cell_type": "markdown",
      "source": [
        "- The majority of properties are priced in the \"0-3 crores\" ranges.\n",
        "- There's a significant drop in the number of properties priced above \"5 crores.\""
      ],
      "metadata": {
        "id": "557rwWJOuLtN"
      }
    },
    {
      "cell_type": "code",
      "source": [
        "# ecdf plot\n",
        "# Calculate ECDF\n",
        "ecdf = df['price'].value_counts().sort_index().cumsum() / len(df['price'])\n",
        "\n",
        "# Plot ECDF\n",
        "plt.plot(ecdf.index, ecdf, marker='.', linestyle='none')\n",
        "\n",
        "# Add horizontal line at 95th percentile\n",
        "percentile_95 = np.percentile(df['price'], 95)\n",
        "plt.axhline(y=percentile_95, color='red', linestyle='-')\n",
        "\n",
        "# Add grid\n",
        "plt.grid()\n",
        "\n",
        "# Show plot\n",
        "plt.show()"
      ],
      "metadata": {
        "colab": {
          "base_uri": "https://localhost:8080/",
          "height": 430
        },
        "id": "2GRX1cMnuDjS",
        "outputId": "a9bd730b-0711-456e-fc47-6a6892b7a143"
      },
      "execution_count": 42,
      "outputs": [
        {
          "output_type": "display_data",
          "data": {
            "text/plain": [
              "<Figure size 640x480 with 1 Axes>"
            ],
            "image/png": "[encoded data removed]"
          },
          "metadata": {}
        }
      ]
    },
    {
      "cell_type": "markdown",
      "source": [
        "# **log transformation vs orniginal data**"
      ],
      "metadata": {
        "id": "J1S8Ua5c0a7T"
      }
    },
    {
      "cell_type": "code",
      "source": [
        "plt.figure(figsize=(15, 6))\n",
        "\n",
        "# Distribution plot without log transformation\n",
        "plt.subplot(1 , 2, 1)\n",
        "sns.histplot(df['price'], kde=True, bins=50, color='skyblue')\n",
        "plt.title('Distribution of Prices - (Original)')\n",
        "plt.xlabel(\"Price in Crore\")\n",
        "plt.ylabel('Frequency')\n",
        "\n",
        "\n",
        "# Distribution plot with log transformation\n",
        "plt.subplot(1, 2, 2)\n",
        "sns.histplot(np.log1p(df['price']), kde=True, bins=50, color='lightgreen')\n",
        "plt.title('Distribution of Prices (Log Transformed)')\n",
        "plt.xlabel('Log(Price)')\n",
        "plt.ylabel('Frequency')\n",
        "\n",
        "plt.tight_layout()\n",
        "plt.show()"
      ],
      "metadata": {
        "colab": {
          "base_uri": "https://localhost:8080/",
          "height": 330
        },
        "id": "mE_moqvCutp4",
        "outputId": "58e3b164-6a3d-4f63-f0b3-581b391dd49e"
      },
      "execution_count": 43,
      "outputs": [
        {
          "output_type": "display_data",
          "data": {
            "text/plain": [
              "<Figure size 1500x600 with 2 Axes>"
            ],
            "image/png": "[encoded data removed]"
          },
          "metadata": {}
        }
      ]
    },
    {
      "cell_type": "code",
      "source": [
        "skewness = np.log1p(df['price']).skew()\n",
        "kurtosis = np.log1p(df['price']).kurt()\n",
        "\n",
        "print(\"Skewness is:\",round(skewness,2))\n",
        "print(\"Kurtosis is: \",round(kurtosis,2))"
      ],
      "metadata": {
        "colab": {
          "base_uri": "https://localhost:8080/"
        },
        "id": "nD6GBKzu1xx9",
        "outputId": "c9b24d01-373a-465c-c3ba-bddc3b8bde5b"
      },
      "execution_count": 44,
      "outputs": [
        {
          "output_type": "stream",
          "name": "stdout",
          "text": [
            "Skewness is: 1.07\n",
            "Kurtosis is:  0.96\n"
          ]
        }
      ]
    },
    {
      "cell_type": "code",
      "source": [
        "plt.figure(figsize=(15, 6))\n",
        "\n",
        "# Distribution plot without log transformation\n",
        "plt.subplot(1, 2, 1)\n",
        "sns.boxplot(y=df['price'], color='skyblue', orient='h')\n",
        "plt.title('Distribution of Prices (Original)')\n",
        "plt.xlabel('Frequency')\n",
        "plt.ylabel('Price (in Crores)')\n",
        "\n",
        "# Distribution plot with log transformation\n",
        "plt.subplot(1, 2, 2)\n",
        "sns.boxplot(y=np.log1p(df['price']), color='lightgreen', orient='h')\n",
        "plt.title('Distribution of Prices (Log Transformed)')\n",
        "plt.xlabel('Frequency')\n",
        "plt.ylabel('Log(Price)')\n",
        "\n",
        "plt.tight_layout()\n",
        "plt.show()"
      ],
      "metadata": {
        "colab": {
          "base_uri": "https://localhost:8080/",
          "height": 419
        },
        "id": "NiBhkszP36Py",
        "outputId": "5ff0abbe-e07a-4397-c0cf-5126ec16a669"
      },
      "execution_count": 45,
      "outputs": [
        {
          "output_type": "stream",
          "name": "stderr",
          "text": [
            "/usr/local/lib/python3.10/dist-packages/seaborn/_base.py:1601: UserWarning: Horizontal orientation ignored with only `y` specified.\n",
            "  warnings.warn(single_var_warning.format(\"Horizontal\", \"y\"))\n",
            "/usr/local/lib/python3.10/dist-packages/seaborn/_base.py:1601: UserWarning: Horizontal orientation ignored with only `y` specified.\n",
            "  warnings.warn(single_var_warning.format(\"Horizontal\", \"y\"))\n"
          ]
        },
        {
          "output_type": "display_data",
          "data": {
            "text/plain": [
              "<Figure size 1500x600 with 2 Axes>"
            ],
            "image/png": "[encoded data removed]"
          },
          "metadata": {}
        }
      ]
    },
    {
      "cell_type": "markdown",
      "source": [
        "# **price_per_sqft**"
      ],
      "metadata": {
        "id": "RjcK_6NL-dUo"
      }
    },
    {
      "cell_type": "code",
      "source": [
        "df['price_per_sqft'].isna().sum()"
      ],
      "metadata": {
        "colab": {
          "base_uri": "https://localhost:8080/"
        },
        "id": "VZf-zNok4C57",
        "outputId": "44f99cc9-b8a4-45f4-db0c-2124eab5502a"
      },
      "execution_count": 46,
      "outputs": [
        {
          "output_type": "execute_result",
          "data": {
            "text/plain": [
              "17"
            ]
          },
          "metadata": {},
          "execution_count": 46
        }
      ]
    },
    {
      "cell_type": "code",
      "source": [
        "df['price_per_sqft'].describe()"
      ],
      "metadata": {
        "colab": {
          "base_uri": "https://localhost:8080/"
        },
        "id": "hkFwjnoh-zL-",
        "outputId": "5e3b3226-aaec-4e7b-9617-73771850b936"
      },
      "execution_count": 47,
      "outputs": [
        {
          "output_type": "execute_result",
          "data": {
            "text/plain": [
              "count      3660.000000\n",
              "mean      13892.668306\n",
              "std       23210.067190\n",
              "min           4.000000\n",
              "25%        6817.250000\n",
              "50%        9020.000000\n",
              "75%       13880.500000\n",
              "max      600000.000000\n",
              "Name: price_per_sqft, dtype: float64"
            ]
          },
          "metadata": {},
          "execution_count": 47
        }
      ]
    },
    {
      "cell_type": "code",
      "source": [
        "sns.histplot(df['price_per_sqft'], bins=50, color='red', kde=True)"
      ],
      "metadata": {
        "colab": {
          "base_uri": "https://localhost:8080/",
          "height": 467
        },
        "id": "f1MMB-Bq-3cO",
        "outputId": "c7a0af75-5347-4bf0-9916-9c3b9928ccf5"
      },
      "execution_count": 48,
      "outputs": [
        {
          "output_type": "execute_result",
          "data": {
            "text/plain": [
              "<Axes: xlabel='price_per_sqft', ylabel='Count'>"
            ]
          },
          "metadata": {},
          "execution_count": 48
        },
        {
          "output_type": "display_data",
          "data": {
            "text/plain": [
              "<Figure size 640x480 with 1 Axes>"
            ],
            "image/png": "[encoded data removed]"
          },
          "metadata": {}
        }
      ]
    },
    {
      "cell_type": "code",
      "source": [
        "sns.boxplot(df['price_per_sqft'], color='lightgreen', orient='h')"
      ],
      "metadata": {
        "colab": {
          "base_uri": "https://localhost:8080/",
          "height": 467
        },
        "id": "5bnp3Jp9_JNe",
        "outputId": "ec402851-a537-416a-aadd-32c00da0f083"
      },
      "execution_count": 49,
      "outputs": [
        {
          "output_type": "execute_result",
          "data": {
            "text/plain": [
              "<Axes: xlabel='price_per_sqft'>"
            ]
          },
          "metadata": {},
          "execution_count": 49
        },
        {
          "output_type": "display_data",
          "data": {
            "text/plain": [
              "<Figure size 640x480 with 1 Axes>"
            ],
            "image/png": "[encoded data removed]"
          },
          "metadata": {}
        }
      ]
    },
    {
      "cell_type": "markdown",
      "source": [
        "The box plot clearly shows several outliers, especially on the higher side. The interquartile range (IQR) is relatively compact, but there are many data points beyond the \"whiskers\" of the box plot, indicating potential outliers"
      ],
      "metadata": {
        "id": "jncuvAhW_nkC"
      }
    },
    {
      "cell_type": "markdown",
      "source": [
        "# **Observations:**\n",
        "- Potential Outliers\n",
        "- Right Skewed\n",
        "- 17 missing values"
      ],
      "metadata": {
        "id": "ARd27_9I_pte"
      }
    },
    {
      "cell_type": "markdown",
      "source": [
        "# **bedRoom**"
      ],
      "metadata": {
        "id": "UVjuMTwv_wcS"
      }
    },
    {
      "cell_type": "code",
      "source": [
        "df['bedRoom'].isna().sum()"
      ],
      "metadata": {
        "id": "P156EW_O_WT-",
        "colab": {
          "base_uri": "https://localhost:8080/"
        },
        "outputId": "973ee503-21ce-49e9-c852-2c8cfc7cc5ac"
      },
      "execution_count": 50,
      "outputs": [
        {
          "output_type": "execute_result",
          "data": {
            "text/plain": [
              "0"
            ]
          },
          "metadata": {},
          "execution_count": 50
        }
      ]
    },
    {
      "cell_type": "code",
      "source": [
        "df['bedRoom'].value_counts()"
      ],
      "metadata": {
        "colab": {
          "base_uri": "https://localhost:8080/"
        },
        "id": "RM8ua_ne75e1",
        "outputId": "79aefd2e-c4cb-4b9c-84e2-4996daae9b89"
      },
      "execution_count": 51,
      "outputs": [
        {
          "output_type": "execute_result",
          "data": {
            "text/plain": [
              "bedRoom\n",
              "3     1496\n",
              "2      942\n",
              "4      660\n",
              "5      210\n",
              "1      124\n",
              "6       74\n",
              "9       41\n",
              "8       30\n",
              "12      28\n",
              "7       28\n",
              "10      20\n",
              "16      12\n",
              "13       4\n",
              "18       2\n",
              "19       2\n",
              "11       1\n",
              "20       1\n",
              "14       1\n",
              "21       1\n",
              "Name: count, dtype: int64"
            ]
          },
          "metadata": {},
          "execution_count": 51
        }
      ]
    },
    {
      "cell_type": "code",
      "source": [
        "df['bedRoom'].value_counts().sort_index().plot(kind='bar')"
      ],
      "metadata": {
        "colab": {
          "base_uri": "https://localhost:8080/",
          "height": 470
        },
        "id": "9Pbpi0nw789t",
        "outputId": "004106bc-a0dc-4372-e636-a9dcae95de04"
      },
      "execution_count": 52,
      "outputs": [
        {
          "output_type": "execute_result",
          "data": {
            "text/plain": [
              "<Axes: xlabel='bedRoom'>"
            ]
          },
          "metadata": {},
          "execution_count": 52
        },
        {
          "output_type": "display_data",
          "data": {
            "text/plain": [
              "<Figure size 640x480 with 1 Axes>"
            ],
            "image/png": "[encoded data removed]"
          },
          "metadata": {}
        }
      ]
    },
    {
      "cell_type": "code",
      "source": [
        "df['bedRoom'].value_counts(normalize=True).head().plot(kind='pie',autopct='%0.2f%%')"
      ],
      "metadata": {
        "colab": {
          "base_uri": "https://localhost:8080/",
          "height": 423
        },
        "id": "6l0Ds2Uf8CJ1",
        "outputId": "a4e81848-3af5-4e29-a8c1-05dc82d8fdfc"
      },
      "execution_count": 55,
      "outputs": [
        {
          "output_type": "execute_result",
          "data": {
            "text/plain": [
              "<Axes: ylabel='proportion'>"
            ]
          },
          "metadata": {},
          "execution_count": 55
        },
        {
          "output_type": "display_data",
          "data": {
            "text/plain": [
              "<Figure size 640x480 with 1 Axes>"
            ],
            "image/png": "[encoded data removed]"
          },
          "metadata": {}
        }
      ]
    },
    {
      "cell_type": "markdown",
      "source": [
        "# **bathRoom**"
      ],
      "metadata": {
        "id": "i7vYpcrM8whV"
      }
    },
    {
      "cell_type": "code",
      "source": [
        "df['bathroom'].isna().sum()"
      ],
      "metadata": {
        "colab": {
          "base_uri": "https://localhost:8080/"
        },
        "id": "BCYSSYYM8a7t",
        "outputId": "08b15baa-f720-48cc-8a8f-9eb5699f5cd7"
      },
      "execution_count": 57,
      "outputs": [
        {
          "output_type": "execute_result",
          "data": {
            "text/plain": [
              "0"
            ]
          },
          "metadata": {},
          "execution_count": 57
        }
      ]
    },
    {
      "cell_type": "code",
      "source": [
        "df['bathroom'].value_counts().sort_index().plot(kind='bar')"
      ],
      "metadata": {
        "colab": {
          "base_uri": "https://localhost:8080/",
          "height": 470
        },
        "id": "MVqaXBM781yV",
        "outputId": "f35f6432-0c9c-4a85-c153-070ba72fbf2c"
      },
      "execution_count": 58,
      "outputs": [
        {
          "output_type": "execute_result",
          "data": {
            "text/plain": [
              "<Axes: xlabel='bathroom'>"
            ]
          },
          "metadata": {},
          "execution_count": 58
        },
        {
          "output_type": "display_data",
          "data": {
            "text/plain": [
              "<Figure size 640x480 with 1 Axes>"
            ],
            "image/png": "[encoded data removed]"
          },
          "metadata": {}
        }
      ]
    },
    {
      "cell_type": "code",
      "source": [
        "df['bathroom'].value_counts(normalize=True).head().plot(kind='pie',autopct='%0.2f%%')"
      ],
      "metadata": {
        "colab": {
          "base_uri": "https://localhost:8080/",
          "height": 423
        },
        "id": "MFtAI_o_86VO",
        "outputId": "30b9fbf0-bfae-4f2f-ee19-cf144e81cb31"
      },
      "execution_count": 60,
      "outputs": [
        {
          "output_type": "execute_result",
          "data": {
            "text/plain": [
              "<Axes: ylabel='proportion'>"
            ]
          },
          "metadata": {},
          "execution_count": 60
        },
        {
          "output_type": "display_data",
          "data": {
            "text/plain": [
              "<Figure size 640x480 with 1 Axes>"
            ],
            "image/png": "[encoded data removed]"
          },
          "metadata": {}
        }
      ]
    },
    {
      "cell_type": "markdown",
      "source": [
        "# **balcony**"
      ],
      "metadata": {
        "id": "YzhBnuuM9M1l"
      }
    },
    {
      "cell_type": "code",
      "source": [
        "df['balcony'].isna().sum()"
      ],
      "metadata": {
        "colab": {
          "base_uri": "https://localhost:8080/"
        },
        "id": "CH8jKn-C89t2",
        "outputId": "c266d25a-f284-4cc4-f862-a48d81ee4aa6"
      },
      "execution_count": 61,
      "outputs": [
        {
          "output_type": "execute_result",
          "data": {
            "text/plain": [
              "0"
            ]
          },
          "metadata": {},
          "execution_count": 61
        }
      ]
    },
    {
      "cell_type": "code",
      "source": [
        "df['balcony'].value_counts()"
      ],
      "metadata": {
        "colab": {
          "base_uri": "https://localhost:8080/"
        },
        "id": "J5zGSSSS9SUW",
        "outputId": "635a2465-64c5-43a8-b81a-313bbd327c1a"
      },
      "execution_count": 62,
      "outputs": [
        {
          "output_type": "execute_result",
          "data": {
            "text/plain": [
              "balcony\n",
              "3+    1172\n",
              "3     1074\n",
              "2      884\n",
              "1      365\n",
              "0      182\n",
              "Name: count, dtype: int64"
            ]
          },
          "metadata": {},
          "execution_count": 62
        }
      ]
    },
    {
      "cell_type": "code",
      "source": [
        "df['balcony'].value_counts().plot(kind='bar')"
      ],
      "metadata": {
        "colab": {
          "base_uri": "https://localhost:8080/",
          "height": 473
        },
        "id": "hQo7yqK-9VD9",
        "outputId": "795bf6ee-8621-41a4-c38e-e5c23ff1ba94"
      },
      "execution_count": 63,
      "outputs": [
        {
          "output_type": "execute_result",
          "data": {
            "text/plain": [
              "<Axes: xlabel='balcony'>"
            ]
          },
          "metadata": {},
          "execution_count": 63
        },
        {
          "output_type": "display_data",
          "data": {
            "text/plain": [
              "<Figure size 640x480 with 1 Axes>"
            ],
            "image/png": "[encoded data removed]"
          },
          "metadata": {}
        }
      ]
    },
    {
      "cell_type": "code",
      "source": [
        "df['balcony'].value_counts(normalize=True).plot(kind='pie',autopct=\"%0.2f%%\")"
      ],
      "metadata": {
        "colab": {
          "base_uri": "https://localhost:8080/",
          "height": 423
        },
        "id": "Ya5a679q9ZPW",
        "outputId": "d554014f-0ba1-45b9-dfd4-5317193da668"
      },
      "execution_count": 64,
      "outputs": [
        {
          "output_type": "execute_result",
          "data": {
            "text/plain": [
              "<Axes: ylabel='proportion'>"
            ]
          },
          "metadata": {},
          "execution_count": 64
        },
        {
          "output_type": "display_data",
          "data": {
            "text/plain": [
              "<Figure size 640x480 with 1 Axes>"
            ],
            "image/png": "[encoded data removed]"
          },
          "metadata": {}
        }
      ]
    },
    {
      "cell_type": "markdown",
      "source": [
        "# **floorNum**"
      ],
      "metadata": {
        "id": "VsObc8FK9puL"
      }
    },
    {
      "cell_type": "code",
      "source": [
        "df.columns"
      ],
      "metadata": {
        "colab": {
          "base_uri": "https://localhost:8080/"
        },
        "id": "mfRBpPsm9mWV",
        "outputId": "3bcc0867-99b7-417a-96c8-2178443d5ded"
      },
      "execution_count": 65,
      "outputs": [
        {
          "output_type": "execute_result",
          "data": {
            "text/plain": [
              "Index(['property_type', 'society', 'sector', 'price', 'price_per_sqft', 'area',\n",
              "       'areaWithType', 'bedRoom', 'bathroom', 'balcony', 'floorNum', 'facing',\n",
              "       'agePossession', 'super_built_up_area', 'built_up_area', 'carpet_area',\n",
              "       'study room', 'servant room', 'store room', 'pooja room', 'others',\n",
              "       'furnishing_type', 'luxury_score'],\n",
              "      dtype='object')"
            ]
          },
          "metadata": {},
          "execution_count": 65
        }
      ]
    },
    {
      "cell_type": "code",
      "source": [
        "df['floorNum'].isna().sum()"
      ],
      "metadata": {
        "colab": {
          "base_uri": "https://localhost:8080/"
        },
        "id": "_vuUQJPs9uil",
        "outputId": "d9971793-9c5a-4321-aea3-5a836f696a20"
      },
      "execution_count": 66,
      "outputs": [
        {
          "output_type": "execute_result",
          "data": {
            "text/plain": [
              "19"
            ]
          },
          "metadata": {},
          "execution_count": 66
        }
      ]
    },
    {
      "cell_type": "code",
      "source": [
        "df['floorNum'].value_counts()"
      ],
      "metadata": {
        "colab": {
          "base_uri": "https://localhost:8080/"
        },
        "id": "yloXtDf396il",
        "outputId": "a6420930-075d-447e-cd13-eeb4fa0b2da3"
      },
      "execution_count": 67,
      "outputs": [
        {
          "output_type": "execute_result",
          "data": {
            "text/plain": [
              "floorNum\n",
              "3.0     498\n",
              "2.0     493\n",
              "1.0     351\n",
              "4.0     316\n",
              "8.0     195\n",
              "6.0     183\n",
              "10.0    179\n",
              "7.0     176\n",
              "5.0     169\n",
              "9.0     161\n",
              "12.0    158\n",
              "0.0     129\n",
              "11.0    113\n",
              "14.0    112\n",
              "15.0     80\n",
              "16.0     52\n",
              "17.0     46\n",
              "13.0     42\n",
              "18.0     36\n",
              "19.0     33\n",
              "20.0     26\n",
              "21.0     16\n",
              "23.0     14\n",
              "22.0     13\n",
              "24.0     11\n",
              "25.0      9\n",
              "27.0      8\n",
              "26.0      5\n",
              "30.0      5\n",
              "33.0      4\n",
              "28.0      4\n",
              "29.0      3\n",
              "31.0      3\n",
              "32.0      2\n",
              "43.0      2\n",
              "34.0      2\n",
              "39.0      2\n",
              "35.0      2\n",
              "44.0      1\n",
              "45.0      1\n",
              "51.0      1\n",
              "38.0      1\n",
              "40.0      1\n",
              "Name: count, dtype: int64"
            ]
          },
          "metadata": {},
          "execution_count": 67
        }
      ]
    },
    {
      "cell_type": "code",
      "source": [
        "df['floorNum'].describe()"
      ],
      "metadata": {
        "colab": {
          "base_uri": "https://localhost:8080/"
        },
        "id": "5kYmOOPn9-FG",
        "outputId": "7acd0ca1-8467-4c19-e30e-bb658f6f4a7c"
      },
      "execution_count": 68,
      "outputs": [
        {
          "output_type": "execute_result",
          "data": {
            "text/plain": [
              "count    3658.000000\n",
              "mean        6.798250\n",
              "std         6.012454\n",
              "min         0.000000\n",
              "25%         2.000000\n",
              "50%         5.000000\n",
              "75%        10.000000\n",
              "max        51.000000\n",
              "Name: floorNum, dtype: float64"
            ]
          },
          "metadata": {},
          "execution_count": 68
        }
      ]
    },
    {
      "cell_type": "code",
      "source": [
        "df['floorNum'].value_counts().sort_index().plot(kind='bar')"
      ],
      "metadata": {
        "colab": {
          "base_uri": "https://localhost:8080/",
          "height": 483
        },
        "id": "XeXP8lGb-DQt",
        "outputId": "069d29fe-174e-4b0d-80b0-47fb1d0743aa"
      },
      "execution_count": 70,
      "outputs": [
        {
          "output_type": "execute_result",
          "data": {
            "text/plain": [
              "<Axes: xlabel='floorNum'>"
            ]
          },
          "metadata": {},
          "execution_count": 70
        },
        {
          "output_type": "display_data",
          "data": {
            "text/plain": [
              "<Figure size 640x480 with 1 Axes>"
            ],
            "image/png": "[encoded data removed]"
          },
          "metadata": {}
        }
      ]
    },
    {
      "cell_type": "code",
      "source": [
        "sns.boxplot(df['floorNum'],color='lightgreen')"
      ],
      "metadata": {
        "colab": {
          "base_uri": "https://localhost:8080/",
          "height": 428
        },
        "id": "Qa590SRI-O9N",
        "outputId": "dc8c1ccd-f42d-48a5-bdd8-55df3d299862"
      },
      "execution_count": 71,
      "outputs": [
        {
          "output_type": "execute_result",
          "data": {
            "text/plain": [
              "<Axes: ylabel='floorNum'>"
            ]
          },
          "metadata": {},
          "execution_count": 71
        },
        {
          "output_type": "display_data",
          "data": {
            "text/plain": [
              "<Figure size 640x480 with 1 Axes>"
            ],
            "image/png": "[encoded data removed]"
          },
          "metadata": {}
        }
      ]
    },
    {
      "cell_type": "markdown",
      "source": [
        "# **Observations:**\n",
        "\n",
        "\n",
        "- The majority of the properties lie between the ground floor (0) and the 25th floor.\n",
        "- Floors 1 to 4 are particularly common, with the 3rd floor being the most frequent.\n",
        "- There are a few properties located at higher floors, but their frequency is much lower.\n",
        "- The box plot reveals that the majority of the properties are concentrated around the lower floors. The interquartile range (IQR) lies between approximately the 2nd and 10th floors.\n",
        "- Data points beyond the \"whiskers\" of the box plot, especially on the higher side, indicate potential outliers."
      ],
      "metadata": {
        "id": "d7LDdGbB-ywg"
      }
    },
    {
      "cell_type": "markdown",
      "source": [
        "# **facing**"
      ],
      "metadata": {
        "id": "ehyd6-CN-__P"
      }
    },
    {
      "cell_type": "code",
      "source": [
        "df['facing'].isnull().sum()"
      ],
      "metadata": {
        "colab": {
          "base_uri": "https://localhost:8080/"
        },
        "id": "bAKqjto7-dTV",
        "outputId": "ebe5b4ac-5101-475e-f966-4593cd4eb6fa"
      },
      "execution_count": 72,
      "outputs": [
        {
          "output_type": "execute_result",
          "data": {
            "text/plain": [
              "1045"
            ]
          },
          "metadata": {},
          "execution_count": 72
        }
      ]
    },
    {
      "cell_type": "code",
      "source": [
        "df['facing'].fillna('NA',inplace=True)"
      ],
      "metadata": {
        "id": "INGG_fF5_CKN"
      },
      "execution_count": 73,
      "outputs": []
    },
    {
      "cell_type": "code",
      "source": [
        "df['facing'].value_counts()"
      ],
      "metadata": {
        "colab": {
          "base_uri": "https://localhost:8080/"
        },
        "id": "jQzTuQqT_FXF",
        "outputId": "1cc8d75d-e173-47da-c4fc-dab71270067a"
      },
      "execution_count": 74,
      "outputs": [
        {
          "output_type": "execute_result",
          "data": {
            "text/plain": [
              "facing\n",
              "NA            1045\n",
              "North-East     623\n",
              "East           623\n",
              "North          387\n",
              "West           249\n",
              "South          231\n",
              "North-West     193\n",
              "South-East     173\n",
              "South-West     153\n",
              "Name: count, dtype: int64"
            ]
          },
          "metadata": {},
          "execution_count": 74
        }
      ]
    },
    {
      "cell_type": "markdown",
      "source": [
        "# **agePossession**"
      ],
      "metadata": {
        "id": "VJSQ0S5i_cvb"
      }
    },
    {
      "cell_type": "code",
      "source": [
        "df['agePossession'].isna().sum()"
      ],
      "metadata": {
        "colab": {
          "base_uri": "https://localhost:8080/"
        },
        "id": "TC2HyIuj_Gc1",
        "outputId": "84a2b6d4-a0a8-42c7-e837-589864bc273b"
      },
      "execution_count": 75,
      "outputs": [
        {
          "output_type": "execute_result",
          "data": {
            "text/plain": [
              "0"
            ]
          },
          "metadata": {},
          "execution_count": 75
        }
      ]
    },
    {
      "cell_type": "code",
      "source": [
        "df['agePossession'].value_counts()"
      ],
      "metadata": {
        "colab": {
          "base_uri": "https://localhost:8080/"
        },
        "id": "aVtauzz__ftN",
        "outputId": "e0fabe40-18dd-42af-c892-937e72c59af1"
      },
      "execution_count": 76,
      "outputs": [
        {
          "output_type": "execute_result",
          "data": {
            "text/plain": [
              "agePossession\n",
              "Relatively New        1646\n",
              "New Property           593\n",
              "Moderately Old         563\n",
              "Undefined              306\n",
              "Old Property           303\n",
              "Under Construction     266\n",
              "Name: count, dtype: int64"
            ]
          },
          "metadata": {},
          "execution_count": 76
        }
      ]
    },
    {
      "cell_type": "code",
      "source": [
        "df['agePossession'].value_counts().sort_index().plot(kind='bar')"
      ],
      "metadata": {
        "colab": {
          "base_uri": "https://localhost:8080/",
          "height": 587
        },
        "id": "yXuoR2Zu_iAN",
        "outputId": "3c95e924-4a5f-4742-977b-5a22cb7ede73"
      },
      "execution_count": 77,
      "outputs": [
        {
          "output_type": "execute_result",
          "data": {
            "text/plain": [
              "<Axes: xlabel='agePossession'>"
            ]
          },
          "metadata": {},
          "execution_count": 77
        },
        {
          "output_type": "display_data",
          "data": {
            "text/plain": [
              "<Figure size 640x480 with 1 Axes>"
            ],
            "image/png": "[encoded data removed]"
          },
          "metadata": {}
        }
      ]
    },
    {
      "cell_type": "markdown",
      "source": [
        "# **areas**"
      ],
      "metadata": {
        "id": "YcrFDgxN_tq8"
      }
    },
    {
      "cell_type": "markdown",
      "source": [
        "## **super built up area**"
      ],
      "metadata": {
        "id": "YgEwuJDv_vux"
      }
    },
    {
      "cell_type": "code",
      "source": [
        "df['super_built_up_area'].isnull().sum()"
      ],
      "metadata": {
        "colab": {
          "base_uri": "https://localhost:8080/"
        },
        "id": "SKHeRcD3_tYQ",
        "outputId": "7501ff8b-37db-4de6-9909-c33b17e718e5"
      },
      "execution_count": 78,
      "outputs": [
        {
          "output_type": "execute_result",
          "data": {
            "text/plain": [
              "1802"
            ]
          },
          "metadata": {},
          "execution_count": 78
        }
      ]
    },
    {
      "cell_type": "code",
      "source": [
        "df['super_built_up_area'].describe()"
      ],
      "metadata": {
        "colab": {
          "base_uri": "https://localhost:8080/"
        },
        "id": "I1HiJPxXJDru",
        "outputId": "ae73f80b-83a7-42d1-f324-373094b0c818"
      },
      "execution_count": 82,
      "outputs": [
        {
          "output_type": "execute_result",
          "data": {
            "text/plain": [
              "count     1875.000000\n",
              "mean      1925.237627\n",
              "std        764.172177\n",
              "min         89.000000\n",
              "25%       1479.500000\n",
              "50%       1828.000000\n",
              "75%       2215.000000\n",
              "max      10000.000000\n",
              "Name: super_built_up_area, dtype: float64"
            ]
          },
          "metadata": {},
          "execution_count": 82
        }
      ]
    },
    {
      "cell_type": "code",
      "source": [
        "df[df['super_built_up_area'] <= 100]"
      ],
      "metadata": {
        "colab": {
          "base_uri": "https://localhost:8080/",
          "height": 165
        },
        "id": "9hMF2UVc_psV",
        "outputId": "2837b288-5036-429f-8e6b-c050b95eb49a"
      },
      "execution_count": 81,
      "outputs": [
        {
          "output_type": "execute_result",
          "data": {
            "text/plain": [
              "    property_type      society     sector  price  price_per_sqft   area  \\\n",
              "881          flat  godrej aria  sector 79    1.1         11482.0  958.0   \n",
              "\n",
              "               areaWithType  bedRoom  bathroom balcony  ...  \\\n",
              "881  Super Built up area 89        2         2       3  ...   \n",
              "\n",
              "     super_built_up_area built_up_area carpet_area  study room  servant room  \\\n",
              "881                 89.0           NaN         NaN           0             0   \n",
              "\n",
              "     store room  pooja room  others  furnishing_type  luxury_score  \n",
              "881           0           0       0                0            62  \n",
              "\n",
              "[1 rows x 23 columns]"
            ],
            "text/html": [
              "\n",
              "  <div id=\"df-e3035f5a-7263-4e37-a9dd-3b6c9094341e\" class=\"colab-df-container\">\n",
              "    <div>\n",
              "<style scoped>\n",
              "    .dataframe tbody tr th:only-of-type {\n",
              "        vertical-align: middle;\n",
              "    }\n",
              "\n",
              "    .dataframe tbody tr th {\n",
              "        vertical-align: top;\n",
              "    }\n",
              "\n",
              "    .dataframe thead th {\n",
              "        text-align: right;\n",
              "    }\n",
              "</style>\n",
              "<table border=\"1\" class=\"dataframe\">\n",
              "  <thead>\n",
              "    <tr style=\"text-align: right;\">\n",
              "      <th></th>\n",
              "      <th>property_type</th>\n",
              "      <th>society</th>\n",
              "      <th>sector</th>\n",
              "      <th>price</th>\n",
              "      <th>price_per_sqft</th>\n",
              "      <th>area</th>\n",
              "      <th>areaWithType</th>\n",
              "      <th>bedRoom</th>\n",
              "      <th>bathroom</th>\n",
              "      <th>balcony</th>\n",
              "      <th>...</th>\n",
              "      <th>super_built_up_area</th>\n",
              "      <th>built_up_area</th>\n",
              "      <th>carpet_area</th>\n",
              "      <th>study room</th>\n",
              "      <th>servant room</th>\n",
              "      <th>store room</th>\n",
              "      <th>pooja room</th>\n",
              "      <th>others</th>\n",
              "      <th>furnishing_type</th>\n",
              "      <th>luxury_score</th>\n",
              "    </tr>\n",
              "  </thead>\n",
              "  <tbody>\n",
              "    <tr>\n",
              "      <th>881</th>\n",
              "      <td>flat</td>\n",
              "      <td>godrej aria</td>\n",
              "      <td>sector 79</td>\n",
              "      <td>1.1</td>\n",
              "      <td>11482.0</td>\n",
              "      <td>958.0</td>\n",
              "      <td>Super Built up area 89</td>\n",
              "      <td>2</td>\n",
              "      <td>2</td>\n",
              "      <td>3</td>\n",
              "      <td>...</td>\n",
              "      <td>89.0</td>\n",
              "      <td>NaN</td>\n",
              "      <td>NaN</td>\n",
              "      <td>0</td>\n",
              "      <td>0</td>\n",
              "      <td>0</td>\n",
              "      <td>0</td>\n",
              "      <td>0</td>\n",
              "      <td>0</td>\n",
              "      <td>62</td>\n",
              "    </tr>\n",
              "  </tbody>\n",
              "</table>\n",
              "<p>1 rows × 23 columns</p>\n",
              "</div>\n",
              "    <div class=\"colab-df-buttons\">\n",
              "\n",
              "  <div class=\"colab-df-container\">\n",
              "    <button class=\"colab-df-convert\" onclick=\"convertToInteractive('df-e3035f5a-7263-4e37-a9dd-3b6c9094341e')\"\n",
              "            title=\"Convert this dataframe to an interactive table.\"\n",
              "            style=\"display:none;\">\n",
              "\n",
              "  <svg xmlns=\"http://www.w3.org/2000/svg\" height=\"24px\" viewBox=\"0 -960 960 960\">\n",
              "    <path d=\"M120-120v-720h720v720H120Zm60-500h600v-160H180v160Zm220 220h160v-160H400v160Zm0 220h160v-160H400v160ZM180-400h160v-160H180v160Zm440 0h160v-160H620v160ZM180-180h160v-160H180v160Zm440 0h160v-160H620v160Z\"/>\n",
              "  </svg>\n",
              "    </button>\n",
              "\n",
              "  <style>\n",
              "    .colab-df-container {\n",
              "      display:flex;\n",
              "      gap: 12px;\n",
              "    }\n",
              "\n",
              "    .colab-df-convert {\n",
              "      background-color: #E8F0FE;\n",
              "      border: none;\n",
              "      border-radius: 50%;\n",
              "      cursor: pointer;\n",
              "      display: none;\n",
              "      fill: #1967D2;\n",
              "      height: 32px;\n",
              "      padding: 0 0 0 0;\n",
              "      width: 32px;\n",
              "    }\n",
              "\n",
              "    .colab-df-convert:hover {\n",
              "      background-color: #E2EBFA;\n",
              "      box-shadow: 0px 1px 2px rgba(60, 64, 67, 0.3), 0px 1px 3px 1px rgba(60, 64, 67, 0.15);\n",
              "      fill: #174EA6;\n",
              "    }\n",
              "\n",
              "    .colab-df-buttons div {\n",
              "      margin-bottom: 4px;\n",
              "    }\n",
              "\n",
              "    [theme=dark] .colab-df-convert {\n",
              "      background-color: #3B4455;\n",
              "      fill: #D2E3FC;\n",
              "    }\n",
              "\n",
              "    [theme=dark] .colab-df-convert:hover {\n",
              "      background-color: #434B5C;\n",
              "      box-shadow: 0px 1px 3px 1px rgba(0, 0, 0, 0.15);\n",
              "      filter: drop-shadow(0px 1px 2px rgba(0, 0, 0, 0.3));\n",
              "      fill: #FFFFFF;\n",
              "    }\n",
              "  </style>\n",
              "\n",
              "    <script>\n",
              "      const buttonEl =\n",
              "        document.querySelector('#df-e3035f5a-7263-4e37-a9dd-3b6c9094341e button.colab-df-convert');\n",
              "      buttonEl.style.display =\n",
              "        google.colab.kernel.accessAllowed ? 'block' : 'none';\n",
              "\n",
              "      async function convertToInteractive(key) {\n",
              "        const element = document.querySelector('#df-e3035f5a-7263-4e37-a9dd-3b6c9094341e');\n",
              "        const dataTable =\n",
              "          await google.colab.kernel.invokeFunction('convertToInteractive',\n",
              "                                                    [key], {});\n",
              "        if (!dataTable) return;\n",
              "\n",
              "        const docLinkHtml = 'Like what you see? Visit the ' +\n",
              "          '<a target=\"_blank\" href=https://colab.research.google.com/notebooks/data_table.ipynb>data table notebook</a>'\n",
              "          + ' to learn more about interactive tables.';\n",
              "        element.innerHTML = '';\n",
              "        dataTable['output_type'] = 'display_data';\n",
              "        await google.colab.output.renderOutput(dataTable, element);\n",
              "        const docLink = document.createElement('div');\n",
              "        docLink.innerHTML = docLinkHtml;\n",
              "        element.appendChild(docLink);\n",
              "      }\n",
              "    </script>\n",
              "  </div>\n",
              "\n",
              "\n",
              "    </div>\n",
              "  </div>\n"
            ],
            "application/vnd.google.colaboratory.intrinsic+json": {
              "type": "dataframe"
            }
          },
          "metadata": {},
          "execution_count": 81
        }
      ]
    },
    {
      "cell_type": "code",
      "source": [
        "sns.histplot(df['super_built_up_area'].dropna(), bins=50, kde=True)"
      ],
      "metadata": {
        "colab": {
          "base_uri": "https://localhost:8080/",
          "height": 467
        },
        "id": "zImowNXeEi2W",
        "outputId": "442ae48c-b7c8-47bd-eef6-a297c257da79"
      },
      "execution_count": 83,
      "outputs": [
        {
          "output_type": "execute_result",
          "data": {
            "text/plain": [
              "<Axes: xlabel='super_built_up_area', ylabel='Count'>"
            ]
          },
          "metadata": {},
          "execution_count": 83
        },
        {
          "output_type": "display_data",
          "data": {
            "text/plain": [
              "<Figure size 640x480 with 1 Axes>"
            ],
            "image/png": "[encoded data removed]"
          },
          "metadata": {}
        }
      ]
    },
    {
      "cell_type": "code",
      "source": [
        "sns.boxplot(df['super_built_up_area'].dropna(), orient='h')"
      ],
      "metadata": {
        "colab": {
          "base_uri": "https://localhost:8080/",
          "height": 467
        },
        "id": "5S4qmkhtJYY2",
        "outputId": "55cbd7ae-2ce4-47ea-e8e8-3e67f5268ad3"
      },
      "execution_count": 85,
      "outputs": [
        {
          "output_type": "execute_result",
          "data": {
            "text/plain": [
              "<Axes: xlabel='super_built_up_area'>"
            ]
          },
          "metadata": {},
          "execution_count": 85
        },
        {
          "output_type": "display_data",
          "data": {
            "text/plain": [
              "<Figure size 640x480 with 1 Axes>"
            ],
            "image/png": "[encoded data removed]"
          },
          "metadata": {}
        }
      ]
    },
    {
      "cell_type": "markdown",
      "source": [
        "# **Observations:**\n",
        "\n",
        "\n",
        "- Most properties have a super built-up area ranging between approximately 1,000 sq.ft and 2,500 sq.ft.\n",
        "- There are a few properties with a significantly larger area, leading to a right-skewed distribution.\n",
        "- The interquartile range (IQR) lies between roughly 1,480 sq.ft and 2,215 sq.ft, indicating that the middle 50% of the properties fall within this range.\n",
        "- There are several data points beyond the upper \"whisker\" of the box plot, indicating potential outliers. These are properties with an unusually large super built-up area."
      ],
      "metadata": {
        "id": "tVfW50cmJo8h"
      }
    },
    {
      "cell_type": "markdown",
      "source": [
        "# **built_up_area**"
      ],
      "metadata": {
        "id": "amdL9hZsJ4hF"
      }
    },
    {
      "cell_type": "code",
      "source": [
        "df['built_up_area'].isna().sum()"
      ],
      "metadata": {
        "colab": {
          "base_uri": "https://localhost:8080/"
        },
        "id": "MSbZwqleJh6O",
        "outputId": "72efa091-de8a-4f52-bb5a-37c88e1b6723"
      },
      "execution_count": 86,
      "outputs": [
        {
          "output_type": "execute_result",
          "data": {
            "text/plain": [
              "1987"
            ]
          },
          "metadata": {},
          "execution_count": 86
        }
      ]
    },
    {
      "cell_type": "code",
      "source": [
        "df['built_up_area'].describe()"
      ],
      "metadata": {
        "colab": {
          "base_uri": "https://localhost:8080/"
        },
        "id": "CP0i7w4IJ7Yn",
        "outputId": "2f3a3c08-1e5e-458e-d86d-7f75defebba0"
      },
      "execution_count": 87,
      "outputs": [
        {
          "output_type": "execute_result",
          "data": {
            "text/plain": [
              "count      1690.000000\n",
              "mean       2379.585816\n",
              "std       17942.880237\n",
              "min           2.000000\n",
              "25%        1100.000000\n",
              "50%        1650.000000\n",
              "75%        2400.000000\n",
              "max      737147.000000\n",
              "Name: built_up_area, dtype: float64"
            ]
          },
          "metadata": {},
          "execution_count": 87
        }
      ]
    },
    {
      "cell_type": "code",
      "source": [
        "sns.histplot(df['built_up_area'].dropna(), bins=50, color='skyblue', kde=False)"
      ],
      "metadata": {
        "colab": {
          "base_uri": "https://localhost:8080/",
          "height": 467
        },
        "id": "Y0v8p-P2J_IP",
        "outputId": "02b395b2-03d9-4871-aaae-bb4a9a3d8ed8"
      },
      "execution_count": 88,
      "outputs": [
        {
          "output_type": "execute_result",
          "data": {
            "text/plain": [
              "<Axes: xlabel='built_up_area', ylabel='Count'>"
            ]
          },
          "metadata": {},
          "execution_count": 88
        },
        {
          "output_type": "display_data",
          "data": {
            "text/plain": [
              "<Figure size 640x480 with 1 Axes>"
            ],
            "image/png": "[encoded data removed]"
          },
          "metadata": {}
        }
      ]
    },
    {
      "cell_type": "code",
      "source": [
        "sns.boxplot(df['built_up_area'].dropna(), color='lightgreen', orient='h')"
      ],
      "metadata": {
        "colab": {
          "base_uri": "https://localhost:8080/",
          "height": 467
        },
        "id": "E3Z57EEgKGxG",
        "outputId": "0887a176-1e04-47eb-e1b7-0c703189818e"
      },
      "execution_count": 90,
      "outputs": [
        {
          "output_type": "execute_result",
          "data": {
            "text/plain": [
              "<Axes: xlabel='built_up_area'>"
            ]
          },
          "metadata": {},
          "execution_count": 90
        },
        {
          "output_type": "display_data",
          "data": {
            "text/plain": [
              "<Figure size 640x480 with 1 Axes>"
            ],
            "image/png": "[encoded data removed]"
          },
          "metadata": {}
        }
      ]
    },
    {
      "cell_type": "markdown",
      "source": [
        "# **Observations:**\n",
        "\n",
        "- Most properties have a built-up area ranging roughly between 500 sq.ft and 3,500 sq.ft.\n",
        "- There are very few properties with a much larger built-up area, leading to a highly right-skewed distribution.\n",
        "- The box plot confirms the presence of significant outliers on the higher side. The data's interquartile range (IQR) is relatively compact, but the \"whiskers\" of the box plot are stretched due to the outliers.\n",
        "\n",
        "The presence of extreme values, especially on the higher side, suggests that there may be outliers or data errors. This could also be due to some properties being exceptionally large, like a commercial complex or an entire building being listed."
      ],
      "metadata": {
        "id": "9sBU6kQkKMn4"
      }
    },
    {
      "cell_type": "markdown",
      "source": [
        "## **carpet area**"
      ],
      "metadata": {
        "id": "_Y5sju7OKiGp"
      }
    },
    {
      "cell_type": "code",
      "source": [
        "# carpet area\n",
        "df['carpet_area'].isnull().sum()"
      ],
      "metadata": {
        "colab": {
          "base_uri": "https://localhost:8080/"
        },
        "id": "4ZHNMNcHKH7-",
        "outputId": "f196f64f-d30b-49dd-88e7-935e83bc90a4"
      },
      "execution_count": 91,
      "outputs": [
        {
          "output_type": "execute_result",
          "data": {
            "text/plain": [
              "1805"
            ]
          },
          "metadata": {},
          "execution_count": 91
        }
      ]
    },
    {
      "cell_type": "code",
      "source": [
        "df['carpet_area'].describe()"
      ],
      "metadata": {
        "colab": {
          "base_uri": "https://localhost:8080/"
        },
        "id": "OqsJn2VuKj2m",
        "outputId": "5f09b73b-43d1-4da4-ed54-f2f9763c58f3"
      },
      "execution_count": 92,
      "outputs": [
        {
          "output_type": "execute_result",
          "data": {
            "text/plain": [
              "count      1872.000000\n",
              "mean       2529.179507\n",
              "std       22799.836449\n",
              "min          15.000000\n",
              "25%         843.000000\n",
              "50%        1300.000000\n",
              "75%        1790.000000\n",
              "max      607936.000000\n",
              "Name: carpet_area, dtype: float64"
            ]
          },
          "metadata": {},
          "execution_count": 92
        }
      ]
    },
    {
      "cell_type": "code",
      "source": [
        "sns.histplot(df['carpet_area'].dropna(), bins=50, color='skyblue', kde=False)"
      ],
      "metadata": {
        "colab": {
          "base_uri": "https://localhost:8080/",
          "height": 466
        },
        "id": "H30L0QfLKk4M",
        "outputId": "3024aa25-a8c0-43c7-8c1f-7298abce15cb"
      },
      "execution_count": 93,
      "outputs": [
        {
          "output_type": "execute_result",
          "data": {
            "text/plain": [
              "<Axes: xlabel='carpet_area', ylabel='Count'>"
            ]
          },
          "metadata": {},
          "execution_count": 93
        },
        {
          "output_type": "display_data",
          "data": {
            "text/plain": [
              "<Figure size 640x480 with 1 Axes>"
            ],
            "image/png": "[encoded data removed]"
          },
          "metadata": {}
        }
      ]
    },
    {
      "cell_type": "code",
      "source": [
        "sns.boxplot(df['carpet_area'].dropna(), color='lightgreen')"
      ],
      "metadata": {
        "colab": {
          "base_uri": "https://localhost:8080/",
          "height": 428
        },
        "id": "o6i0pGwWKl_f",
        "outputId": "9ac8668b-87c8-43fc-dd18-4f4493d82a47"
      },
      "execution_count": 94,
      "outputs": [
        {
          "output_type": "execute_result",
          "data": {
            "text/plain": [
              "<Axes: ylabel='carpet_area'>"
            ]
          },
          "metadata": {},
          "execution_count": 94
        },
        {
          "output_type": "display_data",
          "data": {
            "text/plain": [
              "<Figure size 640x480 with 1 Axes>"
            ],
            "image/png": "[encoded data removed]"
          },
          "metadata": {}
        }
      ]
    },
    {
      "cell_type": "code",
      "source": [
        "df.iloc[:,16:]"
      ],
      "metadata": {
        "colab": {
          "base_uri": "https://localhost:8080/",
          "height": 424
        },
        "id": "ifH0vXE_KnNS",
        "outputId": "bcd71fbd-2b9e-46dd-efb0-2084ff99b3c8"
      },
      "execution_count": 95,
      "outputs": [
        {
          "output_type": "execute_result",
          "data": {
            "text/plain": [
              "      study room  servant room  store room  pooja room  others  \\\n",
              "0              0             0           0           0       0   \n",
              "1              1             1           0           0       0   \n",
              "2              0             0           0           0       0   \n",
              "3              0             0           0           0       0   \n",
              "4              0             1           0           0       1   \n",
              "...          ...           ...         ...         ...     ...   \n",
              "3798           0             0           0           0       0   \n",
              "3799           1             1           1           1       0   \n",
              "3800           0             0           0           0       0   \n",
              "3801           1             1           1           1       0   \n",
              "3802           0             0           0           0       0   \n",
              "\n",
              "      furnishing_type  luxury_score  \n",
              "0                   0             8  \n",
              "1                   0            38  \n",
              "2                   0            15  \n",
              "3                   0            49  \n",
              "4                   1           174  \n",
              "...               ...           ...  \n",
              "3798                0            73  \n",
              "3799                0           160  \n",
              "3800                1            67  \n",
              "3801                0            76  \n",
              "3802                1           126  \n",
              "\n",
              "[3677 rows x 7 columns]"
            ],
            "text/html": [
              "\n",
              "  <div id=\"df-2d49768f-a9da-4235-b861-3c6c8fc5ea4a\" class=\"colab-df-container\">\n",
              "    <div>\n",
              "<style scoped>\n",
              "    .dataframe tbody tr th:only-of-type {\n",
              "        vertical-align: middle;\n",
              "    }\n",
              "\n",
              "    .dataframe tbody tr th {\n",
              "        vertical-align: top;\n",
              "    }\n",
              "\n",
              "    .dataframe thead th {\n",
              "        text-align: right;\n",
              "    }\n",
              "</style>\n",
              "<table border=\"1\" class=\"dataframe\">\n",
              "  <thead>\n",
              "    <tr style=\"text-align: right;\">\n",
              "      <th></th>\n",
              "      <th>study room</th>\n",
              "      <th>servant room</th>\n",
              "      <th>store room</th>\n",
              "      <th>pooja room</th>\n",
              "      <th>others</th>\n",
              "      <th>furnishing_type</th>\n",
              "      <th>luxury_score</th>\n",
              "    </tr>\n",
              "  </thead>\n",
              "  <tbody>\n",
              "    <tr>\n",
              "      <th>0</th>\n",
              "      <td>0</td>\n",
              "      <td>0</td>\n",
              "      <td>0</td>\n",
              "      <td>0</td>\n",
              "      <td>0</td>\n",
              "      <td>0</td>\n",
              "      <td>8</td>\n",
              "    </tr>\n",
              "    <tr>\n",
              "      <th>1</th>\n",
              "      <td>1</td>\n",
              "      <td>1</td>\n",
              "      <td>0</td>\n",
              "      <td>0</td>\n",
              "      <td>0</td>\n",
              "      <td>0</td>\n",
              "      <td>38</td>\n",
              "    </tr>\n",
              "    <tr>\n",
              "      <th>2</th>\n",
              "      <td>0</td>\n",
              "      <td>0</td>\n",
              "      <td>0</td>\n",
              "      <td>0</td>\n",
              "      <td>0</td>\n",
              "      <td>0</td>\n",
              "      <td>15</td>\n",
              "    </tr>\n",
              "    <tr>\n",
              "      <th>3</th>\n",
              "      <td>0</td>\n",
              "      <td>0</td>\n",
              "      <td>0</td>\n",
              "      <td>0</td>\n",
              "      <td>0</td>\n",
              "      <td>0</td>\n",
              "      <td>49</td>\n",
              "    </tr>\n",
              "    <tr>\n",
              "      <th>4</th>\n",
              "      <td>0</td>\n",
              "      <td>1</td>\n",
              "      <td>0</td>\n",
              "      <td>0</td>\n",
              "      <td>1</td>\n",
              "      <td>1</td>\n",
              "      <td>174</td>\n",
              "    </tr>\n",
              "    <tr>\n",
              "      <th>...</th>\n",
              "      <td>...</td>\n",
              "      <td>...</td>\n",
              "      <td>...</td>\n",
              "      <td>...</td>\n",
              "      <td>...</td>\n",
              "      <td>...</td>\n",
              "      <td>...</td>\n",
              "    </tr>\n",
              "    <tr>\n",
              "      <th>3798</th>\n",
              "      <td>0</td>\n",
              "      <td>0</td>\n",
              "      <td>0</td>\n",
              "      <td>0</td>\n",
              "      <td>0</td>\n",
              "      <td>0</td>\n",
              "      <td>73</td>\n",
              "    </tr>\n",
              "    <tr>\n",
              "      <th>3799</th>\n",
              "      <td>1</td>\n",
              "      <td>1</td>\n",
              "      <td>1</td>\n",
              "      <td>1</td>\n",
              "      <td>0</td>\n",
              "      <td>0</td>\n",
              "      <td>160</td>\n",
              "    </tr>\n",
              "    <tr>\n",
              "      <th>3800</th>\n",
              "      <td>0</td>\n",
              "      <td>0</td>\n",
              "      <td>0</td>\n",
              "      <td>0</td>\n",
              "      <td>0</td>\n",
              "      <td>1</td>\n",
              "      <td>67</td>\n",
              "    </tr>\n",
              "    <tr>\n",
              "      <th>3801</th>\n",
              "      <td>1</td>\n",
              "      <td>1</td>\n",
              "      <td>1</td>\n",
              "      <td>1</td>\n",
              "      <td>0</td>\n",
              "      <td>0</td>\n",
              "      <td>76</td>\n",
              "    </tr>\n",
              "    <tr>\n",
              "      <th>3802</th>\n",
              "      <td>0</td>\n",
              "      <td>0</td>\n",
              "      <td>0</td>\n",
              "      <td>0</td>\n",
              "      <td>0</td>\n",
              "      <td>1</td>\n",
              "      <td>126</td>\n",
              "    </tr>\n",
              "  </tbody>\n",
              "</table>\n",
              "<p>3677 rows × 7 columns</p>\n",
              "</div>\n",
              "    <div class=\"colab-df-buttons\">\n",
              "\n",
              "  <div class=\"colab-df-container\">\n",
              "    <button class=\"colab-df-convert\" onclick=\"convertToInteractive('df-2d49768f-a9da-4235-b861-3c6c8fc5ea4a')\"\n",
              "            title=\"Convert this dataframe to an interactive table.\"\n",
              "            style=\"display:none;\">\n",
              "\n",
              "  <svg xmlns=\"http://www.w3.org/2000/svg\" height=\"24px\" viewBox=\"0 -960 960 960\">\n",
              "    <path d=\"M120-120v-720h720v720H120Zm60-500h600v-160H180v160Zm220 220h160v-160H400v160Zm0 220h160v-160H400v160ZM180-400h160v-160H180v160Zm440 0h160v-160H620v160ZM180-180h160v-160H180v160Zm440 0h160v-160H620v160Z\"/>\n",
              "  </svg>\n",
              "    </button>\n",
              "\n",
              "  <style>\n",
              "    .colab-df-container {\n",
              "      display:flex;\n",
              "      gap: 12px;\n",
              "    }\n",
              "\n",
              "    .colab-df-convert {\n",
              "      background-color: #E8F0FE;\n",
              "      border: none;\n",
              "      border-radius: 50%;\n",
              "      cursor: pointer;\n",
              "      display: none;\n",
              "      fill: #1967D2;\n",
              "      height: 32px;\n",
              "      padding: 0 0 0 0;\n",
              "      width: 32px;\n",
              "    }\n",
              "\n",
              "    .colab-df-convert:hover {\n",
              "      background-color: #E2EBFA;\n",
              "      box-shadow: 0px 1px 2px rgba(60, 64, 67, 0.3), 0px 1px 3px 1px rgba(60, 64, 67, 0.15);\n",
              "      fill: #174EA6;\n",
              "    }\n",
              "\n",
              "    .colab-df-buttons div {\n",
              "      margin-bottom: 4px;\n",
              "    }\n",
              "\n",
              "    [theme=dark] .colab-df-convert {\n",
              "      background-color: #3B4455;\n",
              "      fill: #D2E3FC;\n",
              "    }\n",
              "\n",
              "    [theme=dark] .colab-df-convert:hover {\n",
              "      background-color: #434B5C;\n",
              "      box-shadow: 0px 1px 3px 1px rgba(0, 0, 0, 0.15);\n",
              "      filter: drop-shadow(0px 1px 2px rgba(0, 0, 0, 0.3));\n",
              "      fill: #FFFFFF;\n",
              "    }\n",
              "  </style>\n",
              "\n",
              "    <script>\n",
              "      const buttonEl =\n",
              "        document.querySelector('#df-2d49768f-a9da-4235-b861-3c6c8fc5ea4a button.colab-df-convert');\n",
              "      buttonEl.style.display =\n",
              "        google.colab.kernel.accessAllowed ? 'block' : 'none';\n",
              "\n",
              "      async function convertToInteractive(key) {\n",
              "        const element = document.querySelector('#df-2d49768f-a9da-4235-b861-3c6c8fc5ea4a');\n",
              "        const dataTable =\n",
              "          await google.colab.kernel.invokeFunction('convertToInteractive',\n",
              "                                                    [key], {});\n",
              "        if (!dataTable) return;\n",
              "\n",
              "        const docLinkHtml = 'Like what you see? Visit the ' +\n",
              "          '<a target=\"_blank\" href=https://colab.research.google.com/notebooks/data_table.ipynb>data table notebook</a>'\n",
              "          + ' to learn more about interactive tables.';\n",
              "        element.innerHTML = '';\n",
              "        dataTable['output_type'] = 'display_data';\n",
              "        await google.colab.output.renderOutput(dataTable, element);\n",
              "        const docLink = document.createElement('div');\n",
              "        docLink.innerHTML = docLinkHtml;\n",
              "        element.appendChild(docLink);\n",
              "      }\n",
              "    </script>\n",
              "  </div>\n",
              "\n",
              "\n",
              "<div id=\"df-1bc208f1-3372-4f12-99bd-ab86cdf396b8\">\n",
              "  <button class=\"colab-df-quickchart\" onclick=\"quickchart('df-1bc208f1-3372-4f12-99bd-ab86cdf396b8')\"\n",
              "            title=\"Suggest charts\"\n",
              "            style=\"display:none;\">\n",
              "\n",
              "<svg xmlns=\"http://www.w3.org/2000/svg\" height=\"24px\"viewBox=\"0 0 24 24\"\n",
              "     width=\"24px\">\n",
              "    <g>\n",
              "        <path d=\"M19 3H5c-1.1 0-2 .9-2 2v14c0 1.1.9 2 2 2h14c1.1 0 2-.9 2-2V5c0-1.1-.9-2-2-2zM9 17H7v-7h2v7zm4 0h-2V7h2v10zm4 0h-2v-4h2v4z\"/>\n",
              "    </g>\n",
              "</svg>\n",
              "  </button>\n",
              "\n",
              "<style>\n",
              "  .colab-df-quickchart {\n",
              "      --bg-color: #E8F0FE;\n",
              "      --fill-color: #1967D2;\n",
              "      --hover-bg-color: #E2EBFA;\n",
              "      --hover-fill-color: #174EA6;\n",
              "      --disabled-fill-color: #AAA;\n",
              "      --disabled-bg-color: #DDD;\n",
              "  }\n",
              "\n",
              "  [theme=dark] .colab-df-quickchart {\n",
              "      --bg-color: #3B4455;\n",
              "      --fill-color: #D2E3FC;\n",
              "      --hover-bg-color: #434B5C;\n",
              "      --hover-fill-color: #FFFFFF;\n",
              "      --disabled-bg-color: #3B4455;\n",
              "      --disabled-fill-color: #666;\n",
              "  }\n",
              "\n",
              "  .colab-df-quickchart {\n",
              "    background-color: var(--bg-color);\n",
              "    border: none;\n",
              "    border-radius: 50%;\n",
              "    cursor: pointer;\n",
              "    display: none;\n",
              "    fill: var(--fill-color);\n",
              "    height: 32px;\n",
              "    padding: 0;\n",
              "    width: 32px;\n",
              "  }\n",
              "\n",
              "  .colab-df-quickchart:hover {\n",
              "    background-color: var(--hover-bg-color);\n",
              "    box-shadow: 0 1px 2px rgba(60, 64, 67, 0.3), 0 1px 3px 1px rgba(60, 64, 67, 0.15);\n",
              "    fill: var(--button-hover-fill-color);\n",
              "  }\n",
              "\n",
              "  .colab-df-quickchart-complete:disabled,\n",
              "  .colab-df-quickchart-complete:disabled:hover {\n",
              "    background-color: var(--disabled-bg-color);\n",
              "    fill: var(--disabled-fill-color);\n",
              "    box-shadow: none;\n",
              "  }\n",
              "\n",
              "  .colab-df-spinner {\n",
              "    border: 2px solid var(--fill-color);\n",
              "    border-color: transparent;\n",
              "    border-bottom-color: var(--fill-color);\n",
              "    animation:\n",
              "      spin 1s steps(1) infinite;\n",
              "  }\n",
              "\n",
              "  @keyframes spin {\n",
              "    0% {\n",
              "      border-color: transparent;\n",
              "      border-bottom-color: var(--fill-color);\n",
              "      border-left-color: var(--fill-color);\n",
              "    }\n",
              "    20% {\n",
              "      border-color: transparent;\n",
              "      border-left-color: var(--fill-color);\n",
              "      border-top-color: var(--fill-color);\n",
              "    }\n",
              "    30% {\n",
              "      border-color: transparent;\n",
              "      border-left-color: var(--fill-color);\n",
              "      border-top-color: var(--fill-color);\n",
              "      border-right-color: var(--fill-color);\n",
              "    }\n",
              "    40% {\n",
              "      border-color: transparent;\n",
              "      border-right-color: var(--fill-color);\n",
              "      border-top-color: var(--fill-color);\n",
              "    }\n",
              "    60% {\n",
              "      border-color: transparent;\n",
              "      border-right-color: var(--fill-color);\n",
              "    }\n",
              "    80% {\n",
              "      border-color: transparent;\n",
              "      border-right-color: var(--fill-color);\n",
              "      border-bottom-color: var(--fill-color);\n",
              "    }\n",
              "    90% {\n",
              "      border-color: transparent;\n",
              "      border-bottom-color: var(--fill-color);\n",
              "    }\n",
              "  }\n",
              "</style>\n",
              "\n",
              "  <script>\n",
              "    async function quickchart(key) {\n",
              "      const quickchartButtonEl =\n",
              "        document.querySelector('#' + key + ' button');\n",
              "      quickchartButtonEl.disabled = true;  // To prevent multiple clicks.\n",
              "      quickchartButtonEl.classList.add('colab-df-spinner');\n",
              "      try {\n",
              "        const charts = await google.colab.kernel.invokeFunction(\n",
              "            'suggestCharts', [key], {});\n",
              "      } catch (error) {\n",
              "        console.error('Error during call to suggestCharts:', error);\n",
              "      }\n",
              "      quickchartButtonEl.classList.remove('colab-df-spinner');\n",
              "      quickchartButtonEl.classList.add('colab-df-quickchart-complete');\n",
              "    }\n",
              "    (() => {\n",
              "      let quickchartButtonEl =\n",
              "        document.querySelector('#df-1bc208f1-3372-4f12-99bd-ab86cdf396b8 button');\n",
              "      quickchartButtonEl.style.display =\n",
              "        google.colab.kernel.accessAllowed ? 'block' : 'none';\n",
              "    })();\n",
              "  </script>\n",
              "</div>\n",
              "\n",
              "    </div>\n",
              "  </div>\n"
            ],
            "application/vnd.google.colaboratory.intrinsic+json": {
              "type": "dataframe",
              "summary": "{\n  \"name\": \"df\",\n  \"rows\": 3677,\n  \"fields\": [\n    {\n      \"column\": \"study room\",\n      \"properties\": {\n        \"dtype\": \"number\",\n        \"std\": 0,\n        \"min\": 0,\n        \"max\": 1,\n        \"num_unique_values\": 2,\n        \"samples\": [\n          1,\n          0\n        ],\n        \"semantic_type\": \"\",\n        \"description\": \"\"\n      }\n    },\n    {\n      \"column\": \"servant room\",\n      \"properties\": {\n        \"dtype\": \"number\",\n        \"std\": 0,\n        \"min\": 0,\n        \"max\": 1,\n        \"num_unique_values\": 2,\n        \"samples\": [\n          1,\n          0\n        ],\n        \"semantic_type\": \"\",\n        \"description\": \"\"\n      }\n    },\n    {\n      \"column\": \"store room\",\n      \"properties\": {\n        \"dtype\": \"number\",\n        \"std\": 0,\n        \"min\": 0,\n        \"max\": 1,\n        \"num_unique_values\": 2,\n        \"samples\": [\n          1,\n          0\n        ],\n        \"semantic_type\": \"\",\n        \"description\": \"\"\n      }\n    },\n    {\n      \"column\": \"pooja room\",\n      \"properties\": {\n        \"dtype\": \"number\",\n        \"std\": 0,\n        \"min\": 0,\n        \"max\": 1,\n        \"num_unique_values\": 2,\n        \"samples\": [\n          1,\n          0\n        ],\n        \"semantic_type\": \"\",\n        \"description\": \"\"\n      }\n    },\n    {\n      \"column\": \"others\",\n      \"properties\": {\n        \"dtype\": \"number\",\n        \"std\": 0,\n        \"min\": 0,\n        \"max\": 1,\n        \"num_unique_values\": 2,\n        \"samples\": [\n          1,\n          0\n        ],\n        \"semantic_type\": \"\",\n        \"description\": \"\"\n      }\n    },\n    {\n      \"column\": \"furnishing_type\",\n      \"properties\": {\n        \"dtype\": \"number\",\n        \"std\": 0,\n        \"min\": 0,\n        \"max\": 2,\n        \"num_unique_values\": 3,\n        \"samples\": [\n          0,\n          1\n        ],\n        \"semantic_type\": \"\",\n        \"description\": \"\"\n      }\n    },\n    {\n      \"column\": \"luxury_score\",\n      \"properties\": {\n        \"dtype\": \"number\",\n        \"std\": 53,\n        \"min\": 0,\n        \"max\": 174,\n        \"num_unique_values\": 161,\n        \"samples\": [\n          57,\n          152\n        ],\n        \"semantic_type\": \"\",\n        \"description\": \"\"\n      }\n    }\n  ]\n}"
            }
          },
          "metadata": {},
          "execution_count": 95
        }
      ]
    },
    {
      "cell_type": "markdown",
      "source": [
        "# **additional rooms**"
      ],
      "metadata": {
        "id": "bitfWA_TKq_k"
      }
    },
    {
      "cell_type": "code",
      "source": [
        "plt.figure(figsize=(20, 12))\n",
        "\n",
        "# Create a subplot of pie charts for each room type\n",
        "for idx, room in enumerate(['study room','servant room','store room','pooja room','others'], 1):\n",
        "    ax = plt.subplot(2,3, idx)\n",
        "    df[room].value_counts().plot.pie(autopct='%1.1f%%', startangle=90, ax=ax)\n",
        "    plt.title(f'Distribution of {room.title()}')\n",
        "    plt.ylabel('')\n",
        "\n",
        "plt.tight_layout()\n",
        "plt.show()"
      ],
      "metadata": {
        "colab": {
          "base_uri": "https://localhost:8080/",
          "height": 515
        },
        "id": "pTBK8LUGKotQ",
        "outputId": "41d449a5-5667-48d6-9645-365df5b064be"
      },
      "execution_count": 97,
      "outputs": [
        {
          "output_type": "display_data",
          "data": {
            "text/plain": [
              "<Figure size 2000x1200 with 5 Axes>"
            ],
            "image/png": "[encoded data removed]"
          },
          "metadata": {}
        }
      ]
    },
    {
      "cell_type": "markdown",
      "source": [
        "# **furnishing_type**"
      ],
      "metadata": {
        "id": "FrzJzV2ALORz"
      }
    },
    {
      "cell_type": "code",
      "source": [
        "df['furnishing_type'].value_counts()"
      ],
      "metadata": {
        "colab": {
          "base_uri": "https://localhost:8080/"
        },
        "id": "hWr8UJGQLHYm",
        "outputId": "fa09463e-52dc-452c-8f27-f1d87a273e6b"
      },
      "execution_count": 98,
      "outputs": [
        {
          "output_type": "execute_result",
          "data": {
            "text/plain": [
              "furnishing_type\n",
              "0    2411\n",
              "1    1059\n",
              "2     207\n",
              "Name: count, dtype: int64"
            ]
          },
          "metadata": {},
          "execution_count": 98
        }
      ]
    },
    {
      "cell_type": "code",
      "source": [
        "df['furnishing_type'].value_counts().plot(kind='pie',autopct='%0.2f%%')"
      ],
      "metadata": {
        "colab": {
          "base_uri": "https://localhost:8080/",
          "height": 423
        },
        "id": "x64WmRQTLRI-",
        "outputId": "cb07806a-4e23-4371-c210-8b29640a2a24"
      },
      "execution_count": 99,
      "outputs": [
        {
          "output_type": "execute_result",
          "data": {
            "text/plain": [
              "<Axes: ylabel='count'>"
            ]
          },
          "metadata": {},
          "execution_count": 99
        },
        {
          "output_type": "display_data",
          "data": {
            "text/plain": [
              "<Figure size 640x480 with 1 Axes>"
            ],
            "image/png": "[encoded data removed]"
          },
          "metadata": {}
        }
      ]
    },
    {
      "cell_type": "markdown",
      "source": [
        "# **luxury** **score**"
      ],
      "metadata": {
        "id": "ibL4et0_LTl7"
      }
    },
    {
      "cell_type": "code",
      "source": [
        "df['luxury_score'].isnull().sum()"
      ],
      "metadata": {
        "colab": {
          "base_uri": "https://localhost:8080/"
        },
        "id": "1ZaQu11uLSV_",
        "outputId": "32899d98-bdf4-401d-e73e-eedba8ff26b1"
      },
      "execution_count": 100,
      "outputs": [
        {
          "output_type": "execute_result",
          "data": {
            "text/plain": [
              "0"
            ]
          },
          "metadata": {},
          "execution_count": 100
        }
      ]
    },
    {
      "cell_type": "code",
      "source": [
        "df['luxury_score'].describe()"
      ],
      "metadata": {
        "colab": {
          "base_uri": "https://localhost:8080/"
        },
        "id": "gwr9W-GQLWRG",
        "outputId": "16f47a70-b4c9-4bb5-bd1c-85a75a944dce"
      },
      "execution_count": 101,
      "outputs": [
        {
          "output_type": "execute_result",
          "data": {
            "text/plain": [
              "count    3677.000000\n",
              "mean       71.512918\n",
              "std        53.059082\n",
              "min         0.000000\n",
              "25%        31.000000\n",
              "50%        59.000000\n",
              "75%       110.000000\n",
              "max       174.000000\n",
              "Name: luxury_score, dtype: float64"
            ]
          },
          "metadata": {},
          "execution_count": 101
        }
      ]
    },
    {
      "cell_type": "code",
      "source": [
        "sns.histplot(df['luxury_score'], bins=50, color='skyblue', kde=True)"
      ],
      "metadata": {
        "colab": {
          "base_uri": "https://localhost:8080/",
          "height": 467
        },
        "id": "Uccyz8D2LXao",
        "outputId": "72751d9b-904a-40f5-8ae8-bf565c22c7a8"
      },
      "execution_count": 102,
      "outputs": [
        {
          "output_type": "execute_result",
          "data": {
            "text/plain": [
              "<Axes: xlabel='luxury_score', ylabel='Count'>"
            ]
          },
          "metadata": {},
          "execution_count": 102
        },
        {
          "output_type": "display_data",
          "data": {
            "text/plain": [
              "<Figure size 640x480 with 1 Axes>"
            ],
            "image/png": "[encoded data removed]"
          },
          "metadata": {}
        }
      ]
    },
    {
      "cell_type": "code",
      "source": [
        "sns.boxplot(df['luxury_score'], color='lightgreen')"
      ],
      "metadata": {
        "colab": {
          "base_uri": "https://localhost:8080/",
          "height": 428
        },
        "id": "Fj6JYTCnLZA2",
        "outputId": "88876367-cea4-4399-dd10-aadc12a62c6c"
      },
      "execution_count": 103,
      "outputs": [
        {
          "output_type": "execute_result",
          "data": {
            "text/plain": [
              "<Axes: ylabel='luxury_score'>"
            ]
          },
          "metadata": {},
          "execution_count": 103
        },
        {
          "output_type": "display_data",
          "data": {
            "text/plain": [
              "<Figure size 640x480 with 1 Axes>"
            ],
            "image/png": "[encoded data removed]"
          },
          "metadata": {}
        }
      ]
    },
    {
      "cell_type": "markdown",
      "source": [
        "The luxury score distribution has multiple peaks, suggesting a multi-modal distribution. There's a significant number of properties with lower luxury scores (around 0-50), and another peak is observed around the 110-130 range.\n",
        "\n",
        "The box plot reveals that the majority of the properties have luxury scores between approximately 30 and 110. The interquartile range (IQR) lies between these values."
      ],
      "metadata": {
        "id": "CZRGqY1CLbol"
      }
    },
    {
      "cell_type": "code",
      "source": [],
      "metadata": {
        "id": "nGlVZK-_LaQm"
      },
      "execution_count": null,
      "outputs": []
    }
  ]
}